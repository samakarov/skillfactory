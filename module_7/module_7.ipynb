{
 "cells": [
  {
   "cell_type": "markdown",
   "metadata": {
    "_cell_guid": "b1076dfc-b9ad-4769-8c92-a6c4dae69d19",
    "_uuid": "8f2839f25d086af736a60e9eeb907d3b93b6e0e5",
    "execution": {
     "iopub.execute_input": "2021-05-27T11:06:15.017396Z",
     "iopub.status.busy": "2021-05-27T11:06:15.017012Z",
     "iopub.status.idle": "2021-05-27T11:06:15.034647Z",
     "shell.execute_reply": "2021-05-27T11:06:15.033531Z",
     "shell.execute_reply.started": "2021-05-27T11:06:15.017364Z"
    }
   },
   "source": [
    "# Рекомендательная система\n",
    "В данном проекте мы рассмотрим основные этапы создания рекомендательной системы интернет-магазина.\n",
    "\n",
    "Основной целью проекта является изучение принципов работы рекомендательных систем, знакомство с различными алгоритмами и создание прототипа.\n",
    "\n",
    "В ходе работы над проектом были решены следующие задачи:\n",
    "\n",
    "1) EDA - разведывательный анализ данных\n",
    "\n",
    "2) Предобработка данных и генерация новых признаков\n",
    "\n",
    "3) Обучение простой модели LightFM\n",
    "\n",
    "4) Добавление item_features и user_features\n",
    "\n",
    "5) Реализация рекомендательной системы с помощью бибилиотеки fast.ai\n",
    "\n",
    "6) Создание прототипа"
   ]
  },
  {
   "cell_type": "markdown",
   "metadata": {},
   "source": [
    "# Подготовка данных"
   ]
  },
  {
   "cell_type": "code",
   "execution_count": null,
   "metadata": {
    "execution": {
     "iopub.execute_input": "2021-06-14T18:56:25.468164Z",
     "iopub.status.busy": "2021-06-14T18:56:25.467829Z",
     "iopub.status.idle": "2021-06-14T18:56:25.489168Z",
     "shell.execute_reply": "2021-06-14T18:56:25.487971Z",
     "shell.execute_reply.started": "2021-06-14T18:56:25.468135Z"
    }
   },
   "outputs": [],
   "source": [
    "# Загузка библиотек\n",
    "import numpy as np\n",
    "import pandas as pd\n",
    "\n",
    "from collections import Counter\n",
    "import re\n",
    "\n",
    "import os"
   ]
  },
  {
   "cell_type": "code",
   "execution_count": null,
   "metadata": {},
   "outputs": [],
   "source": [
    "path = '/module_7'\n",
    "for dirname, _, filenames in os.walk(path):\n",
    "    for filename in filenames:\n",
    "        print(os.path.join(dirname, filename))"
   ]
  },
  {
   "cell_type": "code",
   "execution_count": null,
   "metadata": {
    "execution": {
     "iopub.execute_input": "2021-06-14T18:56:26.473851Z",
     "iopub.status.busy": "2021-06-14T18:56:26.473499Z",
     "iopub.status.idle": "2021-06-14T18:56:47.152102Z",
     "shell.execute_reply": "2021-06-14T18:56:47.151121Z",
     "shell.execute_reply.started": "2021-06-14T18:56:26.473821Z"
    }
   },
   "outputs": [],
   "source": [
    "# Загружаем данные\n",
    "train = pd.read_csv(path + '/data/train.csv')\n",
    "test = pd.read_csv(path + '/data/test.csv')\n",
    "submission = pd.read_csv(path + '/data/sample_submission.csv')\n",
    "\n",
    "\"\"\"\n",
    "# Код для обработки meta данных и подготовки DataFrame\n",
    "import pandas as pd\n",
    "import numpy as np\n",
    "import json\n",
    "\n",
    "# Список необходимых полей. При необходимости его можно расширить\n",
    "heads = ['category', 'description', 'title', 'brand', 'also_view', 'main_cat', 'price', 'asin', 'also_buy', 'image', 'rank']\n",
    "\n",
    "df = pd.DataFrame(columns=heads)\n",
    "\n",
    "def add_to_df(line, ind):\n",
    "    \"\"\"\"\"\"Функция, добавляющая строки в датафрейм\n",
    "    line: - исходная строка\n",
    "    ind: - индекс датафрейма\"\"\"\"\"\"\n",
    "    ln = json.loads(line.strip())\n",
    "    row = []\n",
    "    for key in heads:\n",
    "        try:\n",
    "            row.append(ln[key])\n",
    "        except:\n",
    "            row.append(np.nan)\n",
    "    df.loc[ind] = row\n",
    "    return 0\n",
    "\n",
    "# открываем файл\n",
    "with open('meta_Grocery_and_Gourmet_Food.json') as f:\n",
    "    ind = 0\n",
    "    while True:\n",
    "        # считываем строку\n",
    "        line = f.readline()\n",
    "        # прерываем цикл, если строка пустая\n",
    "        if not line:\n",
    "            break\n",
    "        # добавляем строку\n",
    "        add_to_df(line, ind)\n",
    "        ind += 1\n",
    "\n",
    "# закрываем файл\n",
    "f.close\n",
    "\n",
    "# Обрабатываем столбец 'rank'\n",
    "aa = df['rank'].replace('[>#,]','',regex=True).str.strip().str.split(pat='(')\n",
    "bb = []\n",
    "cc = []\n",
    "for x in aa:\n",
    "    try: \n",
    "        bb.append(int(x[0].split('in')[0]))\n",
    "        cc.append(x[0].split('in')[1].strip())\n",
    "    except: \n",
    "        bb.append(np.nan)\n",
    "        cc.append(np.nan)\n",
    "\n",
    "df['rank'] = bb\n",
    "df['main_rank_cat'] = cc\n",
    "\n",
    "# Производим замены для одинаковых категорий\n",
    "df['main_rank_cat'].replace('GroceryGourmetFood', 'Grocery & Gourmet Food', inplace=True)\n",
    "df['main_rank_cat'].replace(r'Grocery & Gourmet Food.*','Grocery & Gourmet Food', regex=True, inplace=True)\n",
    "df['main_rank_cat'].replace('Kitchen & D', 'Kitchen & Dining', inplace=True)\n",
    "df['main_rank_cat'].replace('KitchenD','Kitchen & Dining', regex=True, inplace=True)\n",
    "df['main_rank_cat'].replace('Home & Kitchen  Kitchen & D','Kitchen & Dining', regex=True, inplace=True)\n",
    "df['main_rank_cat'].replace(r'Toys & Games.*','Toys & Games', regex=True, inplace=True)\n",
    "df['main_rank_cat'].replace('ToysGames','Toys & Games', regex=True, inplace=True)\n",
    "df['main_rank_cat'].replace(r'Patio Lawn & Garden.*','Patio Lawn & Garden', regex=True, inplace=True)\n",
    "df['main_rank_cat'].replace('ToolsHomeImprovement','Tools & Home Improvement', regex=True, inplace=True)\n",
    "df['main_rank_cat'].replace('IndustrialScientific','Industrial & Scientific', regex=True, inplace=True)\n",
    "df['main_rank_cat'].replace('PetSupplies','Pet Supplies', regex=True, inplace=True)\n",
    "df['main_rank_cat'].replace('HealthHousehold','Health & Household', regex=True, inplace=True)\n",
    "df['main_rank_cat'].replace('BeautyPersonalCare','Beauty & Personal Care', regex=True, inplace=True)\n",
    "df['main_rank_cat'].replace('OfficeProducts','Office Products', regex=True, inplace=True)\n",
    "df['main_rank_cat'].replace('SportsOutdoors','Sports & Outdoors', regex=True, inplace=True)\n",
    "\n",
    "# Сохраняем результат\n",
    "df.to_csv(path + '/meta.csv', index=False)\n",
    "\"\"\"\n",
    "# Полученный файл сохранен в датасете и досупен по адресу: \n",
    "# https://www.kaggle.com/segeymakarov/meta-info-for-recommendationsv4\n",
    "\n",
    "# Загружаем обработанный файл мета данных\n",
    "meta = pd.read_csv(path + '/data/meta.csv')"
   ]
  },
  {
   "cell_type": "code",
   "execution_count": null,
   "metadata": {
    "execution": {
     "iopub.execute_input": "2021-06-14T18:56:47.154605Z",
     "iopub.status.busy": "2021-06-14T18:56:47.154219Z",
     "iopub.status.idle": "2021-06-14T18:56:53.260048Z",
     "shell.execute_reply": "2021-06-14T18:56:53.258747Z",
     "shell.execute_reply.started": "2021-06-14T18:56:47.154573Z"
    }
   },
   "outputs": [],
   "source": [
    "# Удалим дубликаты из мета данных и тренировочного датасета\n",
    "meta.drop_duplicates(inplace=True)\n",
    "train.drop_duplicates(inplace = True)\n",
    "\n",
    "# Объединим тренировочный датасет и данные из meta по идентификатору asin (Amazon Standard Identification Number)\n",
    "df_new_train = pd.merge(train, meta, on='asin')"
   ]
  },
  {
   "cell_type": "markdown",
   "metadata": {},
   "source": [
    "Посмотрим на тестовый и тренировочный датасеты"
   ]
  },
  {
   "cell_type": "code",
   "execution_count": null,
   "metadata": {
    "_cell_guid": "79c7e3d0-c299-4dcb-8224-4455121ee9b0",
    "_uuid": "d629ff2d2480ee46fbb7e2d37f6b5fab8052498a",
    "execution": {
     "iopub.execute_input": "2021-06-14T18:56:53.261554Z",
     "iopub.status.busy": "2021-06-14T18:56:53.261272Z",
     "iopub.status.idle": "2021-06-14T18:56:53.968901Z",
     "shell.execute_reply": "2021-06-14T18:56:53.967957Z",
     "shell.execute_reply.started": "2021-06-14T18:56:53.261527Z"
    }
   },
   "outputs": [],
   "source": [
    "train.info()\n",
    "test.info()"
   ]
  },
  {
   "cell_type": "markdown",
   "metadata": {},
   "source": [
    "Видим, что в тренировочном датасете на три столбца больше:\n",
    "\n",
    "присутствует overall - оценка по пятибальной шкале\n",
    "присутствует reviewText - текст отзыва\n",
    "присутствует summary - краткое содержание отзыва\n",
    "присутствует rating - целевая переманная\n",
    "отсутствует Id"
   ]
  },
  {
   "cell_type": "code",
   "execution_count": null,
   "metadata": {
    "execution": {
     "iopub.execute_input": "2021-06-14T18:56:53.970419Z",
     "iopub.status.busy": "2021-06-14T18:56:53.970042Z",
     "iopub.status.idle": "2021-06-14T18:56:57.811744Z",
     "shell.execute_reply": "2021-06-14T18:56:57.810383Z",
     "shell.execute_reply.started": "2021-06-14T18:56:53.970392Z"
    }
   },
   "outputs": [],
   "source": [
    "# Объединим тестовый и тренировочный датасеты\n",
    "train['is_test']=0\n",
    "test['is_test']=1\n",
    "big_df = pd.concat([train, test], ignore_index=True)\n",
    "\n",
    "# Объединим полученный датасет и данные из meta по идентификатору asin (Amazon Standard Identification Number)\n",
    "df_new_train = pd.merge(big_df, meta, on='asin')\n",
    "# и создадим его копию\n",
    "df = df_new_train.copy()"
   ]
  },
  {
   "cell_type": "markdown",
   "metadata": {
    "execution": {
     "iopub.execute_input": "2021-05-27T11:15:38.321261Z",
     "iopub.status.busy": "2021-05-27T11:15:38.320875Z",
     "iopub.status.idle": "2021-05-27T11:15:51.139964Z",
     "shell.execute_reply": "2021-05-27T11:15:51.139051Z",
     "shell.execute_reply.started": "2021-05-27T11:15:38.32123Z"
    }
   },
   "source": [
    "# EDA\n",
    "\n",
    "Смотрим датасет"
   ]
  },
  {
   "cell_type": "code",
   "execution_count": null,
   "metadata": {
    "execution": {
     "iopub.execute_input": "2021-06-14T18:56:57.816523Z",
     "iopub.status.busy": "2021-06-14T18:56:57.816082Z",
     "iopub.status.idle": "2021-06-14T18:56:57.872353Z",
     "shell.execute_reply": "2021-06-14T18:56:57.871098Z",
     "shell.execute_reply.started": "2021-06-14T18:56:57.81648Z"
    }
   },
   "outputs": [],
   "source": [
    "df.head()"
   ]
  },
  {
   "cell_type": "code",
   "execution_count": null,
   "metadata": {
    "execution": {
     "iopub.execute_input": "2021-06-14T18:56:57.876488Z",
     "iopub.status.busy": "2021-06-14T18:56:57.876058Z",
     "iopub.status.idle": "2021-06-14T18:56:59.937866Z",
     "shell.execute_reply": "2021-06-14T18:56:59.936645Z",
     "shell.execute_reply.started": "2021-06-14T18:56:57.876443Z"
    }
   },
   "outputs": [],
   "source": [
    "df.info()"
   ]
  },
  {
   "cell_type": "markdown",
   "metadata": {
    "execution": {
     "iopub.execute_input": "2021-05-27T11:15:57.759367Z",
     "iopub.status.busy": "2021-05-27T11:15:57.758966Z",
     "iopub.status.idle": "2021-05-27T11:15:57.781919Z",
     "shell.execute_reply": "2021-05-27T11:15:57.78071Z",
     "shell.execute_reply.started": "2021-05-27T11:15:57.759331Z"
    }
   },
   "source": [
    "Пройдемся по признакам.\n",
    "\n",
    "Напишем функции, которые дадут необходимую информацию для первичного анализа признака."
   ]
  },
  {
   "cell_type": "code",
   "execution_count": null,
   "metadata": {
    "execution": {
     "iopub.execute_input": "2021-06-14T18:56:59.940155Z",
     "iopub.status.busy": "2021-06-14T18:56:59.939669Z",
     "iopub.status.idle": "2021-06-14T18:56:59.949201Z",
     "shell.execute_reply": "2021-06-14T18:56:59.947948Z",
     "shell.execute_reply.started": "2021-06-14T18:56:59.940106Z"
    }
   },
   "outputs": [],
   "source": [
    "# Функция с гистограммой\n",
    "def col_info_hist(ys):\n",
    "    print('Количество пропусков: {},'.format(ys.isnull().sum()))\n",
    "    print('{},'.format(ys.describe()))\n",
    "    print('Распределение:\\n{},'.format(ys.value_counts()))\n",
    "    ys.hist()\n",
    "\n",
    "# Функция без гистограммы\n",
    "\n",
    "\n",
    "def col_info(ys):\n",
    "    print('Количество пропусков: {},'.format(ys.isnull().sum()))\n",
    "    print('{},'.format(ys.describe()))\n",
    "    print('Распределение:\\n{},'.format(ys.value_counts()))\n",
    "\n",
    "# Функция распределения значений по 3-м категориям\n",
    "\n",
    "\n",
    "def make_3_cat(x, [low, med], [name_low, name_med, name_high]):\n",
    "    if x < low:\n",
    "        x = name_low\n",
    "    elif x < med:\n",
    "        x = name_med\n",
    "    else:\n",
    "        x = name_high\n",
    "    return x\n",
    "\n",
    "# Функция, которая оставляет только топовые категории в списке, остальные удалит\n",
    "\n",
    "\n",
    "def leave_top_elem(elems, top_elem):\n",
    "    top_elems = []\n",
    "    for elem in elems:\n",
    "        if elem in top_elem:\n",
    "            top_elems.append(elem)\n",
    "    x = top_elems\n",
    "    return x\n",
    "\n",
    "# Функция для отображения категорий в записи\n",
    "\n",
    "\n",
    "def find_item(cell):\n",
    "    if item in cell:\n",
    "        return 1\n",
    "    return 0"
   ]
  },
  {
   "cell_type": "markdown",
   "metadata": {},
   "source": [
    "## Overall"
   ]
  },
  {
   "cell_type": "code",
   "execution_count": null,
   "metadata": {
    "execution": {
     "iopub.execute_input": "2021-06-14T18:56:59.95122Z",
     "iopub.status.busy": "2021-06-14T18:56:59.950792Z",
     "iopub.status.idle": "2021-06-14T18:57:00.322551Z",
     "shell.execute_reply": "2021-06-14T18:57:00.321124Z",
     "shell.execute_reply.started": "2021-06-14T18:56:59.951175Z"
    }
   },
   "outputs": [],
   "source": [
    "col_info_hist(df.overall)"
   ]
  },
  {
   "cell_type": "markdown",
   "metadata": {},
   "source": [
    "Похоже на оценку по пятибальной шкале. Подавляющее большинство - пятерки. Данного признака нет в тестовой выборке, но мы можем использовать его для анализа других признаков."
   ]
  },
  {
   "cell_type": "code",
   "execution_count": null,
   "metadata": {
    "execution": {
     "iopub.execute_input": "2021-06-14T18:57:00.324596Z",
     "iopub.status.busy": "2021-06-14T18:57:00.324132Z",
     "iopub.status.idle": "2021-06-14T18:57:00.347926Z",
     "shell.execute_reply": "2021-06-14T18:57:00.346036Z",
     "shell.execute_reply.started": "2021-06-14T18:57:00.324547Z"
    }
   },
   "outputs": [],
   "source": [
    "df['overall']=df['overall'].fillna(0).astype('int32')"
   ]
  },
  {
   "cell_type": "markdown",
   "metadata": {},
   "source": [
    "## verified"
   ]
  },
  {
   "cell_type": "code",
   "execution_count": null,
   "metadata": {
    "execution": {
     "iopub.execute_input": "2021-06-14T18:57:00.35349Z",
     "iopub.status.busy": "2021-06-14T18:57:00.352931Z",
     "iopub.status.idle": "2021-06-14T18:57:00.383103Z",
     "shell.execute_reply": "2021-06-14T18:57:00.38221Z",
     "shell.execute_reply.started": "2021-06-14T18:57:00.353446Z"
    }
   },
   "outputs": [],
   "source": [
    "col_info(df.verified)"
   ]
  },
  {
   "cell_type": "markdown",
   "metadata": {},
   "source": [
    "Данный признак скорее всего означает, что либо комментарий, либо аккаунт пользователя подтвержден. Пропусков нет. Заменим значения на 1 и 0."
   ]
  },
  {
   "cell_type": "code",
   "execution_count": null,
   "metadata": {
    "execution": {
     "iopub.execute_input": "2021-06-14T18:57:00.384367Z",
     "iopub.status.busy": "2021-06-14T18:57:00.38408Z",
     "iopub.status.idle": "2021-06-14T18:57:00.497137Z",
     "shell.execute_reply": "2021-06-14T18:57:00.495934Z",
     "shell.execute_reply.started": "2021-06-14T18:57:00.38434Z"
    }
   },
   "outputs": [],
   "source": [
    "dic_verified = {True: 1, False: 0}\n",
    "df['verified'] = df['verified'].map(dic_verified)"
   ]
  },
  {
   "cell_type": "code",
   "execution_count": null,
   "metadata": {
    "execution": {
     "iopub.execute_input": "2021-06-14T18:57:00.498892Z",
     "iopub.status.busy": "2021-06-14T18:57:00.498527Z",
     "iopub.status.idle": "2021-06-14T18:57:01.409824Z",
     "shell.execute_reply": "2021-06-14T18:57:01.408757Z",
     "shell.execute_reply.started": "2021-06-14T18:57:00.498858Z"
    }
   },
   "outputs": [],
   "source": [
    "# Посмотрим, как влияет признак verified на среднюю оценку.\n",
    "\n",
    "print('Средняя оценка при значении verified = 1: ',df[df.verified == 1].overall.mean())\n",
    "df['overall'][df['verified'] == 1].hist(bins=10)\n",
    "print('Средняя оценка при значении verified = 0: ',df[df.verified == 0].overall.mean())\n",
    "df['overall'][df['verified'] == 0].hist(bins=10)"
   ]
  },
  {
   "cell_type": "markdown",
   "metadata": {},
   "source": [
    "Видим, что средняя оценка товаров с признаком verified = 1 выше, но в целом распределение оценок похожее."
   ]
  },
  {
   "cell_type": "markdown",
   "metadata": {},
   "source": [
    "## reviewTime"
   ]
  },
  {
   "cell_type": "markdown",
   "metadata": {},
   "source": [
    "Дата отзыва. Эта информация есть в колонке unixReviewTime в более удобном формате. Удалим данный столбец."
   ]
  },
  {
   "cell_type": "code",
   "execution_count": null,
   "metadata": {
    "execution": {
     "iopub.execute_input": "2021-06-14T18:57:01.411459Z",
     "iopub.status.busy": "2021-06-14T18:57:01.41118Z",
     "iopub.status.idle": "2021-06-14T18:57:01.738246Z",
     "shell.execute_reply": "2021-06-14T18:57:01.736969Z",
     "shell.execute_reply.started": "2021-06-14T18:57:01.411432Z"
    }
   },
   "outputs": [],
   "source": [
    "df = df.drop(['reviewTime'], axis=1)"
   ]
  },
  {
   "cell_type": "markdown",
   "metadata": {},
   "source": [
    "## reviewerName"
   ]
  },
  {
   "cell_type": "code",
   "execution_count": null,
   "metadata": {
    "execution": {
     "iopub.execute_input": "2021-06-14T18:57:01.740229Z",
     "iopub.status.busy": "2021-06-14T18:57:01.739902Z",
     "iopub.status.idle": "2021-06-14T18:57:03.554379Z",
     "shell.execute_reply": "2021-06-14T18:57:03.553459Z",
     "shell.execute_reply.started": "2021-06-14T18:57:01.740198Z"
    }
   },
   "outputs": [],
   "source": [
    "col_info(df.reviewerName)"
   ]
  },
  {
   "cell_type": "markdown",
   "metadata": {},
   "source": [
    "Видим, что довольно много отзывов с Амазона и Киндла. 164 пропуска. \n",
    "\n",
    "Проверим, один userid у Amazon Customer, или одному имени пользователя может соответствовать несколько userid."
   ]
  },
  {
   "cell_type": "code",
   "execution_count": null,
   "metadata": {
    "execution": {
     "iopub.execute_input": "2021-06-14T18:57:03.556497Z",
     "iopub.status.busy": "2021-06-14T18:57:03.55607Z",
     "iopub.status.idle": "2021-06-14T18:57:03.832879Z",
     "shell.execute_reply": "2021-06-14T18:57:03.831827Z",
     "shell.execute_reply.started": "2021-06-14T18:57:03.556451Z"
    }
   },
   "outputs": [],
   "source": [
    "df[df.reviewerName=='Amazon Customer'].userid.value_counts()"
   ]
  },
  {
   "cell_type": "markdown",
   "metadata": {},
   "source": [
    "В таком случае, имя пользователя нам не нужно. Удалим столбец."
   ]
  },
  {
   "cell_type": "code",
   "execution_count": null,
   "metadata": {
    "execution": {
     "iopub.execute_input": "2021-06-14T18:57:03.834714Z",
     "iopub.status.busy": "2021-06-14T18:57:03.834352Z",
     "iopub.status.idle": "2021-06-14T18:57:04.288121Z",
     "shell.execute_reply": "2021-06-14T18:57:04.28697Z",
     "shell.execute_reply.started": "2021-06-14T18:57:03.834683Z"
    }
   },
   "outputs": [],
   "source": [
    "df = df.drop(['reviewerName'], axis=1)"
   ]
  },
  {
   "cell_type": "markdown",
   "metadata": {},
   "source": [
    "## reviewText"
   ]
  },
  {
   "cell_type": "code",
   "execution_count": null,
   "metadata": {
    "execution": {
     "iopub.execute_input": "2021-06-14T18:57:04.290306Z",
     "iopub.status.busy": "2021-06-14T18:57:04.289888Z",
     "iopub.status.idle": "2021-06-14T18:57:04.667169Z",
     "shell.execute_reply": "2021-06-14T18:57:04.66634Z",
     "shell.execute_reply.started": "2021-06-14T18:57:04.290261Z"
    }
   },
   "outputs": [],
   "source": [
    "# данного признака нет в тестовой выборке. Удалим столбец\n",
    "df = df.drop(['reviewText'], axis=1)"
   ]
  },
  {
   "cell_type": "markdown",
   "metadata": {},
   "source": [
    "## summary"
   ]
  },
  {
   "cell_type": "code",
   "execution_count": null,
   "metadata": {
    "execution": {
     "iopub.execute_input": "2021-06-14T18:57:04.66892Z",
     "iopub.status.busy": "2021-06-14T18:57:04.668414Z",
     "iopub.status.idle": "2021-06-14T18:57:04.994475Z",
     "shell.execute_reply": "2021-06-14T18:57:04.993626Z",
     "shell.execute_reply.started": "2021-06-14T18:57:04.668872Z"
    }
   },
   "outputs": [],
   "source": [
    "#Данного признака нет в тестовом датасете. Удалим столбец.\n",
    "df = df.drop(['summary'], axis=1)"
   ]
  },
  {
   "cell_type": "markdown",
   "metadata": {},
   "source": [
    "## asin\n",
    "\n",
    "\n",
    "идентификатор для модели нам не нужен, но у нас есть признаки also_buy и similar_item, для которых он может понадобиться. Пока оставим."
   ]
  },
  {
   "cell_type": "code",
   "execution_count": null,
   "metadata": {
    "execution": {
     "iopub.execute_input": "2021-06-14T18:57:04.996215Z",
     "iopub.status.busy": "2021-06-14T18:57:04.995695Z",
     "iopub.status.idle": "2021-06-14T18:57:05.956814Z",
     "shell.execute_reply": "2021-06-14T18:57:05.955825Z",
     "shell.execute_reply.started": "2021-06-14T18:57:04.996153Z"
    }
   },
   "outputs": [],
   "source": [
    "col_info(df.asin)"
   ]
  },
  {
   "cell_type": "markdown",
   "metadata": {},
   "source": [
    "Видим, что всего у нас 41320 различных продукта."
   ]
  },
  {
   "cell_type": "markdown",
   "metadata": {},
   "source": [
    "## unixReviewTime"
   ]
  },
  {
   "cell_type": "code",
   "execution_count": null,
   "metadata": {
    "execution": {
     "iopub.execute_input": "2021-06-14T18:57:06.253926Z",
     "iopub.status.busy": "2021-06-14T18:57:06.253493Z",
     "iopub.status.idle": "2021-06-14T18:57:06.325202Z",
     "shell.execute_reply": "2021-06-14T18:57:06.324093Z",
     "shell.execute_reply.started": "2021-06-14T18:57:06.253894Z"
    }
   },
   "outputs": [],
   "source": [
    "col_info(df.unixReviewTime)"
   ]
  },
  {
   "cell_type": "code",
   "execution_count": null,
   "metadata": {
    "execution": {
     "iopub.execute_input": "2021-06-14T18:57:06.326848Z",
     "iopub.status.busy": "2021-06-14T18:57:06.326532Z",
     "iopub.status.idle": "2021-06-14T18:57:08.011543Z",
     "shell.execute_reply": "2021-06-14T18:57:08.010534Z",
     "shell.execute_reply.started": "2021-06-14T18:57:06.326819Z"
    }
   },
   "outputs": [],
   "source": [
    "# Пропусков нет. Посмотрим, как изменялись оценки со временем.\n",
    "\n",
    "df.unixReviewTime.hist(bins=100)\n",
    "df[df.overall == 5].unixReviewTime.hist(bins=100)\n",
    "df[df.overall == 4].unixReviewTime.hist(bins=100)\n",
    "df[df.overall == 3].unixReviewTime.hist(bins=100)\n",
    "df[df.overall == 1].unixReviewTime.hist(bins=100)\n",
    "df[df.overall == 2].unixReviewTime.hist(bins=100)"
   ]
  },
  {
   "cell_type": "code",
   "execution_count": null,
   "metadata": {
    "execution": {
     "iopub.execute_input": "2021-06-14T18:57:08.014511Z",
     "iopub.status.busy": "2021-06-14T18:57:08.014019Z",
     "iopub.status.idle": "2021-06-14T18:57:08.081861Z",
     "shell.execute_reply": "2021-06-14T18:57:08.080639Z",
     "shell.execute_reply.started": "2021-06-14T18:57:08.014463Z"
    }
   },
   "outputs": [],
   "source": [
    "# Посмотрим, на распределение отзывов по датам, приведя даты к удобному виду.\n",
    "\n",
    "from datetime import datetime\n",
    "tsmin = df.unixReviewTime.min()\n",
    "ts25 = int(df.unixReviewTime.quantile(0.25))\n",
    "ts50 = int(df.unixReviewTime.quantile(0.50))\n",
    "ts75 = int(df.unixReviewTime.quantile(0.75))\n",
    "tsmax = df.unixReviewTime.max()\n",
    "print('Самый первый отзыв:', datetime.utcfromtimestamp(tsmin).strftime('%Y-%m-%d %H:%M:%S'))\n",
    "print('25 квантиль:', datetime.utcfromtimestamp(ts25).strftime('%Y-%m-%d %H:%M:%S'))\n",
    "print('50 квантиль:', datetime.utcfromtimestamp(ts50).strftime('%Y-%m-%d %H:%M:%S'))\n",
    "print('75 квантиль:', datetime.utcfromtimestamp(ts75).strftime('%Y-%m-%d %H:%M:%S'))\n",
    "print('Последний отзыв:', datetime.utcfromtimestamp(tsmax).strftime('%Y-%m-%d %H:%M:%S'))"
   ]
  },
  {
   "cell_type": "code",
   "execution_count": null,
   "metadata": {
    "execution": {
     "iopub.execute_input": "2021-06-14T18:57:08.083516Z",
     "iopub.status.busy": "2021-06-14T18:57:08.083209Z",
     "iopub.status.idle": "2021-06-14T18:57:08.807635Z",
     "shell.execute_reply": "2021-06-14T18:57:08.806517Z",
     "shell.execute_reply.started": "2021-06-14T18:57:08.083487Z"
    }
   },
   "outputs": [],
   "source": [
    "# Заменим значения в столбце на категории\n",
    "df['unixReviewTime'] = df['unixReviewTime'].apply(lambda x: make_3_cat(x, [ts25, ts75], ['old','middle','new']))"
   ]
  },
  {
   "cell_type": "markdown",
   "metadata": {},
   "source": [
    "Создание dummy-переменных сделаем позже."
   ]
  },
  {
   "cell_type": "markdown",
   "metadata": {},
   "source": [
    "## vote"
   ]
  },
  {
   "cell_type": "code",
   "execution_count": null,
   "metadata": {
    "execution": {
     "iopub.execute_input": "2021-06-14T18:57:08.809533Z",
     "iopub.status.busy": "2021-06-14T18:57:08.809216Z",
     "iopub.status.idle": "2021-06-14T18:57:09.589092Z",
     "shell.execute_reply": "2021-06-14T18:57:09.587862Z",
     "shell.execute_reply.started": "2021-06-14T18:57:08.809504Z"
    }
   },
   "outputs": [],
   "source": [
    "col_info(df.vote)"
   ]
  },
  {
   "cell_type": "code",
   "execution_count": null,
   "metadata": {
    "execution": {
     "iopub.execute_input": "2021-06-14T18:57:09.59072Z",
     "iopub.status.busy": "2021-06-14T18:57:09.590448Z",
     "iopub.status.idle": "2021-06-14T18:57:09.826367Z",
     "shell.execute_reply": "2021-06-14T18:57:09.824995Z",
     "shell.execute_reply.started": "2021-06-14T18:57:09.590694Z"
    }
   },
   "outputs": [],
   "source": [
    "df.vote.unique()"
   ]
  },
  {
   "cell_type": "markdown",
   "metadata": {},
   "source": [
    "Скорее всего, данные признак показывает количество голосов, отданных за отзыв. Видим, что в значениях числа через запятую, с нулём и без нуля. Также видим большое количество пропусков. Скорее всего, за эти отзывы никто не проголосовал, что вполне естественно, и мы можем заменить пропуски на 0."
   ]
  },
  {
   "cell_type": "code",
   "execution_count": null,
   "metadata": {
    "execution": {
     "iopub.execute_input": "2021-06-14T18:57:09.828412Z",
     "iopub.status.busy": "2021-06-14T18:57:09.827964Z",
     "iopub.status.idle": "2021-06-14T18:57:11.841504Z",
     "shell.execute_reply": "2021-06-14T18:57:11.840436Z",
     "shell.execute_reply.started": "2021-06-14T18:57:09.828367Z"
    }
   },
   "outputs": [],
   "source": [
    "# Заменим пропуски на 0\n",
    "df.vote = df.vote.fillna(0)\n",
    "\n",
    "# Удалим запятые\n",
    "df['vote'] = df['vote'].astype('str')\n",
    "df['vote'] = df['vote'].apply(lambda x: x.replace(',', ''))\n",
    "\n",
    "# Заменим пропуски на 0\n",
    "df['vote'] = df['vote'].apply(lambda x: x.replace('nan', '0'))\n",
    "df.vote = df.vote.fillna(0)\n",
    "\n",
    "# Приведем к int32\n",
    "df['vote'] = df['vote'].astype('float')\n",
    "df['vote'] = df['vote'].astype('int32')\n",
    "\n",
    "# Посмотрим на результат\n",
    "df.vote.unique()\n",
    "col_info(df.vote)"
   ]
  },
  {
   "cell_type": "code",
   "execution_count": null,
   "metadata": {
    "execution": {
     "iopub.execute_input": "2021-06-14T18:57:11.891618Z",
     "iopub.status.busy": "2021-06-14T18:57:11.891174Z",
     "iopub.status.idle": "2021-06-14T18:57:12.339447Z",
     "shell.execute_reply": "2021-06-14T18:57:12.338216Z",
     "shell.execute_reply.started": "2021-06-14T18:57:11.89157Z"
    }
   },
   "outputs": [],
   "source": [
    "# Заменим значения в столбце на категории\n",
    "df['vote'] = df['vote'].apply(lambda x: make_3_cat(x, [10,100], ['low','middle','high']))"
   ]
  },
  {
   "cell_type": "markdown",
   "metadata": {},
   "source": [
    "dummy-переменные создадим после EDA"
   ]
  },
  {
   "cell_type": "markdown",
   "metadata": {},
   "source": [
    "## style"
   ]
  },
  {
   "cell_type": "code",
   "execution_count": null,
   "metadata": {
    "execution": {
     "iopub.execute_input": "2021-06-14T18:57:12.341587Z",
     "iopub.status.busy": "2021-06-14T18:57:12.341163Z",
     "iopub.status.idle": "2021-06-14T18:57:13.001311Z",
     "shell.execute_reply": "2021-06-14T18:57:13.00055Z",
     "shell.execute_reply.started": "2021-06-14T18:57:12.34154Z"
    }
   },
   "outputs": [],
   "source": [
    "col_info(df['style'])"
   ]
  },
  {
   "cell_type": "markdown",
   "metadata": {},
   "source": [
    "Видим словарь из размера упаковки и вкуса. Скорее всего, отсюда можно что-то полезное выделить, но но пропусков больше половины. Займемся если останется время. Пока удаляем."
   ]
  },
  {
   "cell_type": "code",
   "execution_count": null,
   "metadata": {
    "execution": {
     "iopub.execute_input": "2021-06-14T18:57:13.002718Z",
     "iopub.status.busy": "2021-06-14T18:57:13.002329Z",
     "iopub.status.idle": "2021-06-14T18:57:13.803443Z",
     "shell.execute_reply": "2021-06-14T18:57:13.802156Z",
     "shell.execute_reply.started": "2021-06-14T18:57:13.002688Z"
    }
   },
   "outputs": [],
   "source": [
    "df = df.drop(['style'], axis=1)"
   ]
  },
  {
   "cell_type": "markdown",
   "metadata": {},
   "source": [
    "## image_x, image_y"
   ]
  },
  {
   "cell_type": "markdown",
   "metadata": {},
   "source": [
    "Ссылки на картинки. Сделаем столбец с указанием наличия изображения is_image"
   ]
  },
  {
   "cell_type": "code",
   "execution_count": null,
   "metadata": {
    "execution": {
     "iopub.execute_input": "2021-06-14T18:57:13.808748Z",
     "iopub.status.busy": "2021-06-14T18:57:13.80838Z",
     "iopub.status.idle": "2021-06-14T18:57:15.363865Z",
     "shell.execute_reply": "2021-06-14T18:57:15.362716Z",
     "shell.execute_reply.started": "2021-06-14T18:57:13.808699Z"
    }
   },
   "outputs": [],
   "source": [
    "def has_image(a):\n",
    "    if len(a)>2:\n",
    "        return 1\n",
    "    return 0\n",
    "\n",
    "df['is_image'] = df['image_x'].fillna('0') + df['image_y'].fillna('0')\n",
    "df['is_image'] = df['is_image'].apply(has_image)"
   ]
  },
  {
   "cell_type": "code",
   "execution_count": null,
   "metadata": {
    "execution": {
     "iopub.execute_input": "2021-06-14T18:57:15.366421Z",
     "iopub.status.busy": "2021-06-14T18:57:15.365943Z",
     "iopub.status.idle": "2021-06-14T18:57:15.615828Z",
     "shell.execute_reply": "2021-06-14T18:57:15.614938Z",
     "shell.execute_reply.started": "2021-06-14T18:57:15.366363Z"
    }
   },
   "outputs": [],
   "source": [
    "# исходные столбцы image_x, image_y удалим\n",
    "df = df.drop(['image_x','image_y'], axis=1)"
   ]
  },
  {
   "cell_type": "markdown",
   "metadata": {},
   "source": [
    "## userid"
   ]
  },
  {
   "cell_type": "code",
   "execution_count": null,
   "metadata": {
    "execution": {
     "iopub.execute_input": "2021-06-14T18:57:15.617423Z",
     "iopub.status.busy": "2021-06-14T18:57:15.617131Z",
     "iopub.status.idle": "2021-06-14T18:57:15.689169Z",
     "shell.execute_reply": "2021-06-14T18:57:15.6883Z",
     "shell.execute_reply.started": "2021-06-14T18:57:15.617396Z"
    }
   },
   "outputs": [],
   "source": [
    "col_info(df.userid)"
   ]
  },
  {
   "cell_type": "markdown",
   "metadata": {},
   "source": [
    "ID пользователя. Пропусков нет, идем дальше."
   ]
  },
  {
   "cell_type": "markdown",
   "metadata": {},
   "source": [
    "## itemid"
   ]
  },
  {
   "cell_type": "code",
   "execution_count": null,
   "metadata": {
    "execution": {
     "iopub.execute_input": "2021-06-14T18:57:15.691061Z",
     "iopub.status.busy": "2021-06-14T18:57:15.690757Z",
     "iopub.status.idle": "2021-06-14T18:57:15.7416Z",
     "shell.execute_reply": "2021-06-14T18:57:15.740504Z",
     "shell.execute_reply.started": "2021-06-14T18:57:15.691031Z"
    }
   },
   "outputs": [],
   "source": [
    "col_info(df.itemid)"
   ]
  },
  {
   "cell_type": "markdown",
   "metadata": {},
   "source": [
    "Проверим, если в тестовом и тренировочном датасетах пропущенные id. Это может быть проблемой при предсказании с помощьюу LightFM c item_features."
   ]
  },
  {
   "cell_type": "code",
   "execution_count": null,
   "metadata": {
    "execution": {
     "iopub.execute_input": "2021-06-14T18:57:15.743302Z",
     "iopub.status.busy": "2021-06-14T18:57:15.743004Z",
     "iopub.status.idle": "2021-06-14T18:57:15.759425Z",
     "shell.execute_reply": "2021-06-14T18:57:15.75847Z",
     "shell.execute_reply.started": "2021-06-14T18:57:15.74327Z"
    }
   },
   "outputs": [],
   "source": [
    "print('Количество уникальных itemid в тренировочном датасете:',len(df.itemid.unique()))\n",
    "print('Максимальный itemid в тренировочном датасете:',df.itemid.max()+1)"
   ]
  },
  {
   "cell_type": "markdown",
   "metadata": {},
   "source": [
    "Видим, что есть пропущенные itemid. Подумаем, что с этим делать после eda."
   ]
  },
  {
   "cell_type": "code",
   "execution_count": null,
   "metadata": {
    "execution": {
     "iopub.execute_input": "2021-06-14T18:57:15.760638Z",
     "iopub.status.busy": "2021-06-14T18:57:15.760383Z",
     "iopub.status.idle": "2021-06-14T18:57:15.783702Z",
     "shell.execute_reply": "2021-06-14T18:57:15.78262Z",
     "shell.execute_reply.started": "2021-06-14T18:57:15.760612Z"
    }
   },
   "outputs": [],
   "source": [
    "df.head(1)"
   ]
  },
  {
   "cell_type": "markdown",
   "metadata": {
    "execution": {
     "iopub.execute_input": "2021-06-13T12:12:05.183224Z",
     "iopub.status.busy": "2021-06-13T12:12:05.182842Z",
     "iopub.status.idle": "2021-06-13T12:12:05.316782Z",
     "shell.execute_reply": "2021-06-13T12:12:05.315585Z",
     "shell.execute_reply.started": "2021-06-13T12:12:05.183188Z"
    }
   },
   "source": [
    "## rating"
   ]
  },
  {
   "cell_type": "code",
   "execution_count": null,
   "metadata": {
    "execution": {
     "iopub.execute_input": "2021-06-14T18:57:15.785293Z",
     "iopub.status.busy": "2021-06-14T18:57:15.784997Z",
     "iopub.status.idle": "2021-06-14T18:57:15.843544Z",
     "shell.execute_reply": "2021-06-14T18:57:15.842438Z",
     "shell.execute_reply.started": "2021-06-14T18:57:15.785263Z"
    }
   },
   "outputs": [],
   "source": [
    "col_info(df.rating)"
   ]
  },
  {
   "cell_type": "markdown",
   "metadata": {},
   "source": [
    "Целевая переменная. Здесь всего 2 значения - понравился пользователю товар или нет. \n",
    "\n",
    "Посмотрим, как этот признак зависит от оценки."
   ]
  },
  {
   "cell_type": "code",
   "execution_count": null,
   "metadata": {
    "execution": {
     "iopub.execute_input": "2021-06-14T18:57:15.84513Z",
     "iopub.status.busy": "2021-06-14T18:57:15.844822Z",
     "iopub.status.idle": "2021-06-14T18:57:16.082321Z",
     "shell.execute_reply": "2021-06-14T18:57:16.081232Z",
     "shell.execute_reply.started": "2021-06-14T18:57:15.8451Z"
    }
   },
   "outputs": [],
   "source": [
    "print('Оценки при rating = 0:\\n', df[df.rating == 0].overall.value_counts())\n",
    "print('Оценки при rating = 1:\\n', df[df.rating == 1].overall.value_counts())"
   ]
  },
  {
   "cell_type": "markdown",
   "metadata": {},
   "source": [
    "При оценках 4 или 5 считаем, что товар понравился. 1,2 или 3 - не понравился."
   ]
  },
  {
   "cell_type": "markdown",
   "metadata": {},
   "source": [
    "## category"
   ]
  },
  {
   "cell_type": "markdown",
   "metadata": {},
   "source": [
    "Видим в данном признаке список категорий, к которй относится товар. Посмотрим, сколько всего категорий и выделим самые популярные."
   ]
  },
  {
   "cell_type": "code",
   "execution_count": null,
   "metadata": {
    "execution": {
     "iopub.execute_input": "2021-06-14T18:57:16.083979Z",
     "iopub.status.busy": "2021-06-14T18:57:16.083657Z",
     "iopub.status.idle": "2021-06-14T18:57:20.441394Z",
     "shell.execute_reply": "2021-06-14T18:57:20.440274Z",
     "shell.execute_reply.started": "2021-06-14T18:57:16.083949Z"
    }
   },
   "outputs": [],
   "source": [
    "# Зададим переменной количество категорий\n",
    "N_CATS = 50\n",
    "\n",
    "# Создаем пустой список, в который будут добавляться все категории\n",
    "all_categories = []\n",
    "\n",
    "# Добавляем категории каждой записи в общий список\n",
    "for category in df.category:\n",
    "    all_categories.extend(category.replace('[','').replace(']','').replace(\"'\",'').split(','))\n",
    "\n",
    "# Считаем частоту категорий в датасете\n",
    "cnt = Counter()\n",
    "for word in all_categories:\n",
    "    cnt[word] +=1\n",
    "\n",
    "#Оставим топ N_CATS категорий\n",
    "top_cat = []\n",
    "for i in range (0, len(cnt.most_common(N_CATS))):\n",
    "    cat = cnt.most_common(N_CATS)[i][0]\n",
    "    top_cat.append(cat)\n",
    "    \n",
    "# Удаляем дубликаты из all_categories\n",
    "all_categories = list(dict.fromkeys(all_categories))\n",
    "\n",
    "print('Всего категорий: ', len(all_categories))\n",
    "print('Топ', N_CATS, 'категорий: ',top_cat)"
   ]
  },
  {
   "cell_type": "markdown",
   "metadata": {},
   "source": [
    "Далее мы можем оставить только самые популярные категории и создать на их основе dummy-переменные."
   ]
  },
  {
   "cell_type": "code",
   "execution_count": null,
   "metadata": {
    "execution": {
     "iopub.execute_input": "2021-06-14T18:57:20.443054Z",
     "iopub.status.busy": "2021-06-14T18:57:20.442713Z",
     "iopub.status.idle": "2021-06-14T18:58:55.240217Z",
     "shell.execute_reply": "2021-06-14T18:58:55.239032Z",
     "shell.execute_reply.started": "2021-06-14T18:57:20.443023Z"
    }
   },
   "outputs": [],
   "source": [
    "top_cat = ['Grocery & Gourmet Food', ' Coffee', ' Beverages', ' Tea & Cocoa', ' Cooking & Baking', ' Snack Foods',\n",
    "           ' Candy & Chocolate', ' Tea', ' Single-Serve Capsules & Pods', ' Herbs', ' Spices & Seasonings',\n",
    "           ' Bottled Beverages', ' Water & Drink Mixes', ' Nuts & Seeds', ' Breakfast Foods', ' Canned',\n",
    "           ' Jarred & Packaged Foods', ' Single Herbs & Spices', ' Sauces', ' Bars', ' Syrups',\n",
    "           ' Sugars & Sweeteners', ' Cereals', ' Cooking Oils', ' Vinegars & Sprays', ' Produce',\n",
    "           ' Green', ' Jelly Beans & Gummy Candy', ' Grains & Rice', ' Breakfast & Cereal Bars', ' Jams',\n",
    "           ' Cookies', ' Soups', ' Stocks & Broths', ' Oils', ' Nut Bars', ' Gravies & Marinades',\n",
    "           ' Candy & Chocolate Bars', ' Jellies & Sweet Spreads', ' Hard Candy & Lollipops', ' Roasted Coffee Beans',\n",
    "           ' Packaged Meals & Side Dishes', ' Baking Mixes', ' Tea Samplers', ' Chips & Crisps', ' Mixed Spices & Seasonings',\n",
    "           ' Ground Coffee', ' Sugar Substitutes', ' Juices', ' Dried Fruits & Vegetables']\n",
    "\n",
    "# Применим функцию к датасету, оставим только топовые категории в стольце category\n",
    "df['category'] = df['category'].apply(lambda x: leave_top_elem(x, top_cat))\n",
    "\n",
    "\n",
    "# Создание dummy-переменных на основе топовых категорий\n",
    "\n",
    "# Cоздаем столбцы с категориями и заполняем 0 или 1\n",
    "for item in top_cat:\n",
    "    column_name = 'category' + item\n",
    "    df[column_name] = df['category'].apply(find_item)"
   ]
  },
  {
   "cell_type": "code",
   "execution_count": null,
   "metadata": {
    "execution": {
     "iopub.execute_input": "2021-06-14T18:58:55.241878Z",
     "iopub.status.busy": "2021-06-14T18:58:55.241541Z",
     "iopub.status.idle": "2021-06-14T18:58:56.201339Z",
     "shell.execute_reply": "2021-06-14T18:58:56.200446Z",
     "shell.execute_reply.started": "2021-06-14T18:58:55.241845Z"
    }
   },
   "outputs": [],
   "source": [
    "# Удалим столбец с категориями\n",
    "df = df.drop(['category'], axis = 1)"
   ]
  },
  {
   "cell_type": "markdown",
   "metadata": {},
   "source": [
    "## description"
   ]
  },
  {
   "cell_type": "code",
   "execution_count": null,
   "metadata": {
    "execution": {
     "iopub.execute_input": "2021-06-14T18:58:56.203328Z",
     "iopub.status.busy": "2021-06-14T18:58:56.202918Z",
     "iopub.status.idle": "2021-06-14T18:58:56.214119Z",
     "shell.execute_reply": "2021-06-14T18:58:56.212828Z",
     "shell.execute_reply.started": "2021-06-14T18:58:56.203287Z"
    }
   },
   "outputs": [],
   "source": [
    "df.description[115]"
   ]
  },
  {
   "cell_type": "markdown",
   "metadata": {},
   "source": [
    "найдем самые часто встречающиеся слова, оставим только их и подготовимся к созданию dummy-переменных"
   ]
  },
  {
   "cell_type": "code",
   "execution_count": null,
   "metadata": {
    "execution": {
     "iopub.execute_input": "2021-06-14T18:58:56.216077Z",
     "iopub.status.busy": "2021-06-14T18:58:56.215634Z",
     "iopub.status.idle": "2021-06-14T18:58:56.225312Z",
     "shell.execute_reply": "2021-06-14T18:58:56.224107Z",
     "shell.execute_reply.started": "2021-06-14T18:58:56.216033Z"
    }
   },
   "outputs": [],
   "source": [
    "# Зададим переменной количество наиболее частов встречающихся слов, которое хотим оставить\n",
    "N_WORDS = 200\n",
    "\n",
    "# Сейчас в поле description список строк. Приведем к единой строке.\n",
    "df['description']=df['description'].astype('str')\n",
    "\n",
    "# Разбиваем description на список слов, предварительно приводим текст к нижнему регистру\n",
    "df['description']=df['description'].apply(lambda x: re.sub(\"[^\\w]\", \" \",  x.lower()).split())\n",
    "                                        \n",
    "# Создаем пустой список, в который будут добавляться все слова\n",
    "all_words = []\n",
    "\n",
    "# Добавляем слова каждой записи в общий список\n",
    "for words in df['description']:\n",
    "    # разбиваем текст на слова, предварительно приводим к нижнему регистру\n",
    "    all_words.extend(words)\n",
    "\n",
    "# Считаем частоту слов в датасете\n",
    "cnt = Counter()\n",
    "for word in all_words:\n",
    "    cnt[word] +=1\n",
    "    \n",
    "#Оставим топ N_WORDS слов\n",
    "top_words = []\n",
    "for i in range (0, len(cnt.most_common(N_WORDS))):\n",
    "    words = cnt.most_common(N_WORDS)[i][0]\n",
    "    top_words.append(words)\n",
    "    \n",
    "# Удаляем дубликаты из all_words\n",
    "all_words = list(dict.fromkeys(all_words))\n",
    "\n",
    "print('Всего слов ', len(all_words))\n",
    "print('Топ', N_WORDS, 'слов: ',top_words)"
   ]
  },
  {
   "cell_type": "markdown",
   "metadata": {},
   "source": [
    "Среди самых частых слов много предлогов и артиклей. Отберем вручную список из 50 значимых по нашему мнению слов."
   ]
  },
  {
   "cell_type": "code",
   "execution_count": null,
   "metadata": {
    "execution": {
     "iopub.execute_input": "2021-06-14T18:58:56.227159Z",
     "iopub.status.busy": "2021-06-14T18:58:56.226808Z",
     "iopub.status.idle": "2021-06-14T18:58:56.240364Z",
     "shell.execute_reply": "2021-06-14T18:58:56.239588Z",
     "shell.execute_reply.started": "2021-06-14T18:58:56.22713Z"
    }
   },
   "outputs": [],
   "source": [
    "top_word_list = ['health','treat','intended','disease','prevent','cure',\n",
    "                 'dietary','diagnose','evaluated','statements','condition',\n",
    "                 'supplements','fda','organic','flavor','tea','natural',\n",
    "                 'sugar','salt','water','oil','coffee','ingredients','milk',\n",
    "                 'free','products','chocolate','taste','cup','delicious',\n",
    "                 'quality','flavors','soy','food','flour','acid','wheat',\n",
    "                 'great','powder','corn','nuts','rice','protein','coconut',\n",
    "                 'gluten','butter','syrup','blend','high','best']"
   ]
  },
  {
   "cell_type": "markdown",
   "metadata": {},
   "source": [
    "Далее мы можем оставить только самые популярные слова и создать на их основе dummy-переменные."
   ]
  },
  {
   "cell_type": "code",
   "execution_count": null,
   "metadata": {
    "execution": {
     "iopub.execute_input": "2021-06-14T18:58:56.242007Z",
     "iopub.status.busy": "2021-06-14T18:58:56.241559Z",
     "iopub.status.idle": "2021-06-14T19:10:51.708307Z",
     "shell.execute_reply": "2021-06-14T19:10:51.70698Z",
     "shell.execute_reply.started": "2021-06-14T18:58:56.241967Z"
    }
   },
   "outputs": [],
   "source": [
    "# Применим функцию к датасету, оставим только слова из top_word_list в столбце description\n",
    "df['description'] = df['description'].fillna('').apply(\n",
    "    lambda x: leave_top_elem(x, top_word_list))\n",
    "\n",
    "# Создание dummy-переменных на основе слов из top_word_list\n",
    "\n",
    "# Cоздаем столбцы со словами из top_word_list и заполняем 0 или 1\n",
    "for item in top_word_list:\n",
    "    column_name = 'description' + item\n",
    "    df[column_name] = df['description'].apply(find_item)"
   ]
  },
  {
   "cell_type": "code",
   "execution_count": null,
   "metadata": {
    "execution": {
     "iopub.execute_input": "2021-06-14T19:10:51.71042Z",
     "iopub.status.busy": "2021-06-14T19:10:51.710104Z",
     "iopub.status.idle": "2021-06-14T19:10:53.663787Z",
     "shell.execute_reply": "2021-06-14T19:10:53.662856Z",
     "shell.execute_reply.started": "2021-06-14T19:10:51.71039Z"
    }
   },
   "outputs": [],
   "source": [
    "# Удалим столбец\n",
    "df = df.drop(['description'], axis = 1)"
   ]
  },
  {
   "cell_type": "markdown",
   "metadata": {},
   "source": [
    "## title"
   ]
  },
  {
   "cell_type": "code",
   "execution_count": null,
   "metadata": {
    "execution": {
     "iopub.execute_input": "2021-06-14T19:10:53.665616Z",
     "iopub.status.busy": "2021-06-14T19:10:53.665302Z",
     "iopub.status.idle": "2021-06-14T19:10:53.67267Z",
     "shell.execute_reply": "2021-06-14T19:10:53.671559Z",
     "shell.execute_reply.started": "2021-06-14T19:10:53.665582Z"
    }
   },
   "outputs": [],
   "source": [
    "df.title[115]"
   ]
  },
  {
   "cell_type": "code",
   "execution_count": null,
   "metadata": {
    "execution": {
     "iopub.execute_input": "2021-06-14T19:10:53.679919Z",
     "iopub.status.busy": "2021-06-14T19:10:53.679557Z",
     "iopub.status.idle": "2021-06-14T19:10:54.251927Z",
     "shell.execute_reply": "2021-06-14T19:10:54.250619Z",
     "shell.execute_reply.started": "2021-06-14T19:10:53.679887Z"
    }
   },
   "outputs": [],
   "source": [
    "# Видим, что title частично содержится в description. Удалим данный признак.\n",
    "df = df.drop(['title'], axis = 1)"
   ]
  },
  {
   "cell_type": "markdown",
   "metadata": {},
   "source": [
    "## brand"
   ]
  },
  {
   "cell_type": "code",
   "execution_count": null,
   "metadata": {
    "execution": {
     "iopub.execute_input": "2021-06-14T19:10:54.257605Z",
     "iopub.status.busy": "2021-06-14T19:10:54.257236Z",
     "iopub.status.idle": "2021-06-14T19:10:54.957672Z",
     "shell.execute_reply": "2021-06-14T19:10:54.956605Z",
     "shell.execute_reply.started": "2021-06-14T19:10:54.257569Z"
    }
   },
   "outputs": [],
   "source": [
    "col_info(df.brand)"
   ]
  },
  {
   "cell_type": "markdown",
   "metadata": {},
   "source": [
    "Пропусков относительно не много. 8866 разных производителей. Можно выделить самых известных и сделать для них dummy-переменные, как мы делали для других категориальных признаков."
   ]
  },
  {
   "cell_type": "code",
   "execution_count": null,
   "metadata": {
    "execution": {
     "iopub.execute_input": "2021-06-14T19:10:54.959152Z",
     "iopub.status.busy": "2021-06-14T19:10:54.958843Z",
     "iopub.status.idle": "2021-06-14T19:10:55.933208Z",
     "shell.execute_reply": "2021-06-14T19:10:55.932139Z",
     "shell.execute_reply.started": "2021-06-14T19:10:54.959118Z"
    }
   },
   "outputs": [],
   "source": [
    "# Зададим переменной количество производителей\n",
    "N_BRANDS = 50\n",
    "\n",
    "# Приведем к str\n",
    "df['brand']=df['brand'].astype('str')\n",
    "\n",
    "# Создаем пустой список, в который будут добавляться все производители\n",
    "all_brands = []\n",
    "\n",
    "# Добавляем производителя из каждой записи в общий список\n",
    "for brand in df.brand:\n",
    "    all_brands.append(brand)\n",
    "\n",
    "# Считаем количество производителей в датасете\n",
    "cnt = Counter()\n",
    "for word in all_brands:\n",
    "    cnt[word] +=1\n",
    "    \n",
    "#Оставим топ N_BRANDS производителей\n",
    "top_brand = []\n",
    "for i in range (0, len(cnt.most_common(N_BRANDS))):\n",
    "    br = cnt.most_common(N_BRANDS)[i][0]\n",
    "    top_brand.append(br)\n",
    "    \n",
    "# Удаляем дубликаты из all_brands\n",
    "all_brands = list(dict.fromkeys(all_brands))\n",
    "\n",
    "print('Всего производителей: ', len(all_brands))\n",
    "print('Топ', N_BRANDS, 'производителей: ',top_brand)"
   ]
  },
  {
   "cell_type": "markdown",
   "metadata": {},
   "source": [
    "Далее мы можем оставить только самых популярных производителей и создать на их основе dummy-переменные. Перед работой с топовыми производителями нужно будет поработать с пропусками, либо использовать nan как отдельную категорию"
   ]
  },
  {
   "cell_type": "code",
   "execution_count": null,
   "metadata": {
    "execution": {
     "iopub.execute_input": "2021-06-14T19:10:55.934812Z",
     "iopub.status.busy": "2021-06-14T19:10:55.934517Z",
     "iopub.status.idle": "2021-06-14T19:11:38.53165Z",
     "shell.execute_reply": "2021-06-14T19:11:38.530755Z",
     "shell.execute_reply.started": "2021-06-14T19:10:55.934784Z"
    }
   },
   "outputs": [],
   "source": [
    "# Применим функцию к датасету, оставим только топовых производителей в стольце brand\n",
    "df['brand'] = df['brand'].apply(lambda x: leave_top_elem(x, top_word_list))\n",
    "\n",
    "# Создание dummy-переменных на основе топовых производителей\n",
    "\n",
    "# Cоздаем столбцы с производителями и заполняем 0 или 1\n",
    "for item in top_brand:\n",
    "    column_name = 'brand_' + item\n",
    "    df[column_name] = df['brand'].apply(find_item)"
   ]
  },
  {
   "cell_type": "code",
   "execution_count": null,
   "metadata": {
    "execution": {
     "iopub.execute_input": "2021-06-14T19:11:38.533712Z",
     "iopub.status.busy": "2021-06-14T19:11:38.533135Z",
     "iopub.status.idle": "2021-06-14T19:11:41.093144Z",
     "shell.execute_reply": "2021-06-14T19:11:41.092072Z",
     "shell.execute_reply.started": "2021-06-14T19:11:38.533674Z"
    }
   },
   "outputs": [],
   "source": [
    "# Удаляем исходный столбец\n",
    "df = df.drop(['brand'], axis = 1)"
   ]
  },
  {
   "cell_type": "markdown",
   "metadata": {},
   "source": [
    "## rank"
   ]
  },
  {
   "cell_type": "code",
   "execution_count": null,
   "metadata": {
    "execution": {
     "iopub.execute_input": "2021-06-14T19:11:41.094738Z",
     "iopub.status.busy": "2021-06-14T19:11:41.094448Z",
     "iopub.status.idle": "2021-06-14T19:11:41.103116Z",
     "shell.execute_reply": "2021-06-14T19:11:41.102021Z",
     "shell.execute_reply.started": "2021-06-14T19:11:41.094697Z"
    }
   },
   "outputs": [],
   "source": [
    "print('Количество пропусков: {},'.format(df['rank'].isnull().sum()))"
   ]
  },
  {
   "cell_type": "code",
   "execution_count": null,
   "metadata": {
    "execution": {
     "iopub.execute_input": "2021-06-14T19:11:41.104771Z",
     "iopub.status.busy": "2021-06-14T19:11:41.104461Z",
     "iopub.status.idle": "2021-06-14T19:11:41.673532Z",
     "shell.execute_reply": "2021-06-14T19:11:41.672507Z",
     "shell.execute_reply.started": "2021-06-14T19:11:41.104742Z"
    }
   },
   "outputs": [],
   "source": [
    "# Заменим пропуски на высокий ранг (предположим, что чем ниже ранг, тем лучше)\n",
    "df['rank'] = df['rank'].fillna(9999999)\n",
    "df['rank'] = df['rank'].astype('float')\n",
    "\n",
    "# Остаются какие-то большие значения, заменим их на высокий ранг\n",
    "df['rank'] = df['rank'].apply(lambda x: 9999999 if x > 9999999 else x)\n",
    "df['rank'] = df['rank'].astype('int32')\n",
    "\n",
    "# Посмотрим на результат\n",
    "col_info(df['rank'])"
   ]
  },
  {
   "cell_type": "code",
   "execution_count": null,
   "metadata": {
    "execution": {
     "iopub.execute_input": "2021-06-14T19:11:41.675693Z",
     "iopub.status.busy": "2021-06-14T19:11:41.675384Z",
     "iopub.status.idle": "2021-06-14T19:11:42.271159Z",
     "shell.execute_reply": "2021-06-14T19:11:42.270195Z",
     "shell.execute_reply.started": "2021-06-14T19:11:41.675663Z"
    }
   },
   "outputs": [],
   "source": [
    "# Заменим значения в столбце на категории\n",
    "df['rank'] = df['rank'].apply(lambda x: make_3_cat(x, [10454,169904], ['high','middle','low']))"
   ]
  },
  {
   "cell_type": "markdown",
   "metadata": {},
   "source": [
    "## also_view"
   ]
  },
  {
   "cell_type": "code",
   "execution_count": null,
   "metadata": {
    "execution": {
     "iopub.execute_input": "2021-06-14T19:11:42.273291Z",
     "iopub.status.busy": "2021-06-14T19:11:42.272924Z",
     "iopub.status.idle": "2021-06-14T19:11:42.280092Z",
     "shell.execute_reply": "2021-06-14T19:11:42.279165Z",
     "shell.execute_reply.started": "2021-06-14T19:11:42.273259Z"
    }
   },
   "outputs": [],
   "source": [
    "df.also_view[127]"
   ]
  },
  {
   "cell_type": "markdown",
   "metadata": {},
   "source": [
    "Видим список других товаров в виде asin.\n",
    "\n",
    "В качестве идеи:\n",
    "\n",
    "- так же как мы делали для категорий, посчитать количество упоминаний каждого товара\n",
    "- сделать числовой признак in_also_view, в котором будет указано, сколько каждый товар упоминается в других товарах в also_view\n",
    "- сделать как с категориями - dummy-переменные для само часто упоминаемых в also_view товарах\n",
    "\n",
    "Пока удалим признак."
   ]
  },
  {
   "cell_type": "code",
   "execution_count": null,
   "metadata": {
    "execution": {
     "iopub.execute_input": "2021-06-14T19:11:42.281583Z",
     "iopub.status.busy": "2021-06-14T19:11:42.281286Z",
     "iopub.status.idle": "2021-06-14T19:11:43.424953Z",
     "shell.execute_reply": "2021-06-14T19:11:43.423825Z",
     "shell.execute_reply.started": "2021-06-14T19:11:42.281554Z"
    }
   },
   "outputs": [],
   "source": [
    "df = df.drop(['also_view'], axis = 1)"
   ]
  },
  {
   "cell_type": "markdown",
   "metadata": {},
   "source": [
    "## main_cat"
   ]
  },
  {
   "cell_type": "code",
   "execution_count": null,
   "metadata": {
    "execution": {
     "iopub.execute_input": "2021-06-14T19:11:43.427002Z",
     "iopub.status.busy": "2021-06-14T19:11:43.426623Z",
     "iopub.status.idle": "2021-06-14T19:11:44.129493Z",
     "shell.execute_reply": "2021-06-14T19:11:44.128349Z",
     "shell.execute_reply.started": "2021-06-14T19:11:43.426969Z"
    }
   },
   "outputs": [],
   "source": [
    "col_info(df.main_cat)"
   ]
  },
  {
   "cell_type": "code",
   "execution_count": null,
   "metadata": {
    "execution": {
     "iopub.execute_input": "2021-06-14T19:11:44.131029Z",
     "iopub.status.busy": "2021-06-14T19:11:44.130741Z",
     "iopub.status.idle": "2021-06-14T19:11:44.257057Z",
     "shell.execute_reply": "2021-06-14T19:11:44.255711Z",
     "shell.execute_reply.started": "2021-06-14T19:11:44.131001Z"
    }
   },
   "outputs": [],
   "source": [
    "# Избавимся от пропусков. dummy-переменные для категорий создадим после EDA.\n",
    "\n",
    "# Заменим пропуски на категорию \"Other\"\n",
    "df.main_cat = df.main_cat.fillna('Other')"
   ]
  },
  {
   "cell_type": "markdown",
   "metadata": {},
   "source": [
    "## price"
   ]
  },
  {
   "cell_type": "code",
   "execution_count": null,
   "metadata": {
    "execution": {
     "iopub.execute_input": "2021-06-14T19:11:44.259147Z",
     "iopub.status.busy": "2021-06-14T19:11:44.258711Z",
     "iopub.status.idle": "2021-06-14T19:11:44.837975Z",
     "shell.execute_reply": "2021-06-14T19:11:44.836699Z",
     "shell.execute_reply.started": "2021-06-14T19:11:44.259101Z"
    }
   },
   "outputs": [],
   "source": [
    "col_info(df.price)"
   ]
  },
  {
   "cell_type": "markdown",
   "metadata": {},
   "source": [
    "У нас много пропусков и есть диапозоны цен, например 19.99-295.00. Заменим такие значения и пропуски на среднее значение."
   ]
  },
  {
   "cell_type": "code",
   "execution_count": null,
   "metadata": {
    "execution": {
     "iopub.execute_input": "2021-06-14T19:11:44.839985Z",
     "iopub.status.busy": "2021-06-14T19:11:44.839626Z",
     "iopub.status.idle": "2021-06-14T19:11:46.294028Z",
     "shell.execute_reply": "2021-06-14T19:11:46.292827Z",
     "shell.execute_reply.started": "2021-06-14T19:11:44.839952Z"
    }
   },
   "outputs": [],
   "source": [
    "# Приведем все к str\n",
    "df['price'] = df['price'].astype('str')\n",
    "\n",
    "# Заменим значения диапазонов на минимальное\n",
    "\n",
    "\n",
    "def repl(st):\n",
    "    return st.split(' ')[0].split('-')[0].replace('$', '')\n",
    "\n",
    "\n",
    "df['price'] = df['price'].apply(repl)\n",
    "\n",
    "# Приведем к float\n",
    "df['price'] = df['price'].astype('float')\n",
    "\n",
    "# Заменим пропуски на среднее значение\n",
    "df['price'] = df['price'].fillna(round(df.price.mean(), 2))\n",
    "\n",
    "# Смотрим на результат\n",
    "col_info(df.price)"
   ]
  },
  {
   "cell_type": "code",
   "execution_count": null,
   "metadata": {
    "execution": {
     "iopub.execute_input": "2021-06-14T19:11:46.295918Z",
     "iopub.status.busy": "2021-06-14T19:11:46.295504Z",
     "iopub.status.idle": "2021-06-14T19:11:46.890648Z",
     "shell.execute_reply": "2021-06-14T19:11:46.889506Z",
     "shell.execute_reply.started": "2021-06-14T19:11:46.295884Z"
    }
   },
   "outputs": [],
   "source": [
    "# Заменим значения в столбце на категории\n",
    "df['price'] = df['price'].apply(lambda x: make_3_cat(x, [13.99,21.5], ['low','middle','high']))"
   ]
  },
  {
   "cell_type": "markdown",
   "metadata": {},
   "source": [
    "## also_buy"
   ]
  },
  {
   "cell_type": "code",
   "execution_count": null,
   "metadata": {
    "execution": {
     "iopub.execute_input": "2021-06-14T19:11:46.892857Z",
     "iopub.status.busy": "2021-06-14T19:11:46.8924Z",
     "iopub.status.idle": "2021-06-14T19:11:46.898744Z",
     "shell.execute_reply": "2021-06-14T19:11:46.897764Z",
     "shell.execute_reply.started": "2021-06-14T19:11:46.892812Z"
    }
   },
   "outputs": [],
   "source": [
    "print(df.also_buy[25])"
   ]
  },
  {
   "cell_type": "markdown",
   "metadata": {},
   "source": [
    "аналогично also_view. Есть идеи, что с этим сделать, но пора переходить к следующим этапам. Пока что удалим."
   ]
  },
  {
   "cell_type": "code",
   "execution_count": null,
   "metadata": {
    "execution": {
     "iopub.execute_input": "2021-06-14T19:11:46.900796Z",
     "iopub.status.busy": "2021-06-14T19:11:46.900372Z",
     "iopub.status.idle": "2021-06-14T19:11:47.940282Z",
     "shell.execute_reply": "2021-06-14T19:11:47.939155Z",
     "shell.execute_reply.started": "2021-06-14T19:11:46.900751Z"
    }
   },
   "outputs": [],
   "source": [
    "df = df.drop(['also_buy'], axis = 1)"
   ]
  },
  {
   "cell_type": "markdown",
   "metadata": {},
   "source": [
    "## main_rank_cat"
   ]
  },
  {
   "cell_type": "code",
   "execution_count": null,
   "metadata": {
    "execution": {
     "iopub.execute_input": "2021-06-14T19:11:47.942579Z",
     "iopub.status.busy": "2021-06-14T19:11:47.942096Z",
     "iopub.status.idle": "2021-06-14T19:11:48.648062Z",
     "shell.execute_reply": "2021-06-14T19:11:48.647066Z",
     "shell.execute_reply.started": "2021-06-14T19:11:47.94253Z"
    }
   },
   "outputs": [],
   "source": [
    "col_info(df.main_rank_cat)"
   ]
  },
  {
   "cell_type": "markdown",
   "metadata": {},
   "source": [
    "Во многом повторяет поле main_cat. пока удалаяем"
   ]
  },
  {
   "cell_type": "code",
   "execution_count": null,
   "metadata": {
    "execution": {
     "iopub.execute_input": "2021-06-14T19:11:48.649958Z",
     "iopub.status.busy": "2021-06-14T19:11:48.649587Z",
     "iopub.status.idle": "2021-06-14T19:11:49.432237Z",
     "shell.execute_reply": "2021-06-14T19:11:49.431173Z",
     "shell.execute_reply.started": "2021-06-14T19:11:48.649924Z"
    }
   },
   "outputs": [],
   "source": [
    "df = df.drop(['main_rank_cat'], axis = 1)"
   ]
  },
  {
   "cell_type": "markdown",
   "metadata": {},
   "source": [
    "## Id"
   ]
  },
  {
   "cell_type": "code",
   "execution_count": null,
   "metadata": {
    "execution": {
     "iopub.execute_input": "2021-06-14T19:11:49.436527Z",
     "iopub.status.busy": "2021-06-14T19:11:49.435959Z",
     "iopub.status.idle": "2021-06-14T19:11:50.205023Z",
     "shell.execute_reply": "2021-06-14T19:11:50.203957Z",
     "shell.execute_reply.started": "2021-06-14T19:11:49.43648Z"
    }
   },
   "outputs": [],
   "source": [
    "# удалим столбец\n",
    "df = df.drop(['Id'], axis = 1)"
   ]
  },
  {
   "cell_type": "markdown",
   "metadata": {},
   "source": [
    "## Посмотрим на результат"
   ]
  },
  {
   "cell_type": "code",
   "execution_count": null,
   "metadata": {
    "execution": {
     "iopub.execute_input": "2021-06-14T19:11:50.206719Z",
     "iopub.status.busy": "2021-06-14T19:11:50.206385Z",
     "iopub.status.idle": "2021-06-14T19:11:50.233164Z",
     "shell.execute_reply": "2021-06-14T19:11:50.231261Z",
     "shell.execute_reply.started": "2021-06-14T19:11:50.206685Z"
    }
   },
   "outputs": [],
   "source": [
    "df.info()"
   ]
  },
  {
   "cell_type": "markdown",
   "metadata": {},
   "source": [
    "Мы видим, что осталось обработать 10 категориальных признаков, из которых\n",
    "\n",
    "3 шт. (userid, itemid, rating) мы не трогаем\n",
    "признак overall отсутствует в тестовом датасете\n",
    "а для остальных 6 (verified, unixReviewTime, vote, rank, main_cat, price) можем сделать dummy-переменные."
   ]
  },
  {
   "cell_type": "markdown",
   "metadata": {},
   "source": [
    "## Анализ категориальных признаков"
   ]
  },
  {
   "cell_type": "markdown",
   "metadata": {},
   "source": [
    "Все признаки у нас категориальные и использовать корреляционный анализ не получится. Однако можно посмотреть, различаются ли распределения рейтинга в зависимости от значения этих переменных. Это можно сделать, например, с помощью box-plot или KDE-plot (график показывает плотность распределения переменных)."
   ]
  },
  {
   "cell_type": "code",
   "execution_count": null,
   "metadata": {
    "execution": {
     "iopub.execute_input": "2021-06-14T19:11:50.236062Z",
     "iopub.status.busy": "2021-06-14T19:11:50.235476Z",
     "iopub.status.idle": "2021-06-14T19:11:51.381498Z",
     "shell.execute_reply": "2021-06-14T19:11:51.380101Z",
     "shell.execute_reply.started": "2021-06-14T19:11:50.236014Z"
    }
   },
   "outputs": [],
   "source": [
    "import matplotlib.pyplot as plt\n",
    "import seaborn as sns\n",
    "from itertools import combinations\n",
    "from scipy.stats import ttest_ind"
   ]
  },
  {
   "cell_type": "code",
   "execution_count": null,
   "metadata": {},
   "outputs": [],
   "source": [
    "def get_boxplot(column):\n",
    "    fig, ax = plt.subplots(figsize=(14, 4))\n",
    "    sns.boxplot(x=column, y='overall',\n",
    "                data=df.loc[df.loc[:, column].isin(df.loc[:, column].value_counts().index[:10])], ax=ax)\n",
    "    plt.xticks(rotation=45)\n",
    "    ax.set_title('Boxplot for ' + column)\n",
    "    plt.show()\n",
    "\n",
    "\n",
    "def get_stat_dif(column):\n",
    "    cols = df.loc[:, column].value_counts().index[:10]\n",
    "    combinations_all = list(combinations(cols, 2))\n",
    "    for comb in combinations_all:\n",
    "        if ttest_ind(df.loc[df.loc[:, column] == comb[0], 'overall'],\n",
    "                     df.loc[df.loc[:, column] == comb[1], 'overall']).pvalue \\\n",
    "                <= 0.05/len(combinations_all):  # Учли поправку Бонферони\n",
    "            print('Найдены статистически значимые различия для колонки', column)\n",
    "            break"
   ]
  },
  {
   "cell_type": "code",
   "execution_count": null,
   "metadata": {
    "execution": {
     "iopub.execute_input": "2021-06-14T19:11:51.384069Z",
     "iopub.status.busy": "2021-06-14T19:11:51.383566Z",
     "iopub.status.idle": "2021-06-14T19:12:00.186015Z",
     "shell.execute_reply": "2021-06-14T19:12:00.184977Z",
     "shell.execute_reply.started": "2021-06-14T19:11:51.384021Z"
    }
   },
   "outputs": [],
   "source": [
    "for col in ['verified', 'unixReviewTime', 'vote', 'rank', 'main_cat', 'price']:\n",
    "    get_boxplot(col)"
   ]
  },
  {
   "cell_type": "markdown",
   "metadata": {},
   "source": [
    "По графикам сильных различий не видно. Однако графики являются лишь вспомогательным инструментом, настоящую значимость различий может помочь распознать статистика. \n",
    "\n",
    "Проверим, есть ли статистическая разница в распределении оценок по номинативным признакам, с помощью теста Стьюдента. \n",
    "\n",
    "Проверим нулевую гипотезу о том, что распределения оценок пользователей по различным параметрам неразличимы:"
   ]
  },
  {
   "cell_type": "code",
   "execution_count": null,
   "metadata": {
    "execution": {
     "iopub.execute_input": "2021-06-14T19:12:00.198266Z",
     "iopub.status.busy": "2021-06-14T19:12:00.197833Z",
     "iopub.status.idle": "2021-06-14T19:12:02.863368Z",
     "shell.execute_reply": "2021-06-14T19:12:02.862139Z",
     "shell.execute_reply.started": "2021-06-14T19:12:00.19823Z"
    }
   },
   "outputs": [],
   "source": [
    "for col in ['verified', 'unixReviewTime', 'vote', 'rank', 'main_cat', 'price']:\n",
    "    get_stat_dif(col)"
   ]
  },
  {
   "cell_type": "markdown",
   "metadata": {},
   "source": [
    "Как мы видим, распределение оценок серьезно различается по всем шести параметрам."
   ]
  },
  {
   "cell_type": "code",
   "execution_count": null,
   "metadata": {
    "execution": {
     "iopub.execute_input": "2021-06-14T19:12:02.866691Z",
     "iopub.status.busy": "2021-06-14T19:12:02.865959Z",
     "iopub.status.idle": "2021-06-14T19:12:03.685739Z",
     "shell.execute_reply": "2021-06-14T19:12:03.684192Z",
     "shell.execute_reply.started": "2021-06-14T19:12:02.866592Z"
    }
   },
   "outputs": [],
   "source": [
    "# Удалим признак overall\n",
    "df = df.drop('overall', axis=1)"
   ]
  },
  {
   "cell_type": "markdown",
   "metadata": {},
   "source": [
    "## Создадим dummy-переменные"
   ]
  },
  {
   "cell_type": "code",
   "execution_count": null,
   "metadata": {
    "execution": {
     "iopub.execute_input": "2021-06-14T19:12:03.687611Z",
     "iopub.status.busy": "2021-06-14T19:12:03.6873Z",
     "iopub.status.idle": "2021-06-14T19:12:17.146533Z",
     "shell.execute_reply": "2021-06-14T19:12:17.145436Z",
     "shell.execute_reply.started": "2021-06-14T19:12:03.687581Z"
    }
   },
   "outputs": [],
   "source": [
    "for column in ['unixReviewTime', 'vote', 'rank', 'main_cat', 'price']:\n",
    "    dummies = pd.get_dummies(df[column], prefix = df[column].name)\n",
    "    # Удаляем исходный столбец и добавляем dummies\n",
    "    df = df.drop(df[column].name, axis=1).join(dummies)"
   ]
  },
  {
   "cell_type": "code",
   "execution_count": null,
   "metadata": {
    "execution": {
     "iopub.execute_input": "2021-06-14T19:12:17.148404Z",
     "iopub.status.busy": "2021-06-14T19:12:17.148101Z",
     "iopub.status.idle": "2021-06-14T19:13:01.520881Z",
     "shell.execute_reply": "2021-06-14T19:13:01.519385Z",
     "shell.execute_reply.started": "2021-06-14T19:12:17.148375Z"
    }
   },
   "outputs": [],
   "source": [
    "# Сохраним полученный датафрейм для последующего анализа\n",
    "df.to_csv(path + '/data/extended_df.csv', index=False)"
   ]
  },
  {
   "cell_type": "code",
   "execution_count": null,
   "metadata": {},
   "outputs": [],
   "source": [
    "del df"
   ]
  },
  {
   "cell_type": "markdown",
   "metadata": {},
   "source": [
    "# Итоги EDA"
   ]
  },
  {
   "cell_type": "markdown",
   "metadata": {},
   "source": [
    "Кратко напишем, что мы сделали с каждым признаком:\n",
    "\n",
    "- overall - оценки от 1 до 5. Нет в тестовой выборке, использовали как вспомогательный признак для анализа.\n",
    "- verified - привели значения к 0 и 1\n",
    "- reviewTime - удалили признак т.к. есть unixReviewTime\n",
    "- asin - удалили признак т.к. не использовали, хотя наверное могли бы для also_buy, also_view, similar_item\n",
    "- reviewerName - удалили т.к. есть userid\n",
    "- reviewText - удалили, т.к. признака нет в тестовой выборке\n",
    "- summary - удалили т.к. нет в тестовом датасете\n",
    "- unixReviewTime - сделали 4 категории в зависимости от даты отзыва, сделали dummy-переменные\n",
    "- vote - сделали 3 категории в зависимости от количества голосов, сделали dummy-переменные\n",
    "- style - удалили т.к. больше половины пропусков\n",
    "- image_x, image_y - удалили, заменив на поле is_image\n",
    "- userid - оставили для модели\n",
    "- itemid - оставили для модели\n",
    "- rating - оставили для модели - целевая переменная\n",
    "- category - выдилили самые часто встречающиеся категории, сделали (все подготовили и закомментировали для скорости) dummy-переменные\n",
    "- description - выдилили самые часто встречающиеся слова, сделали (все подготовили и закомментировали для скорости) dummy-переменные\n",
    "- title - удалили т.к. сильно похож на description\n",
    "- brand - выдилили самых часто встречающихся производителей, сделали (все подготовили и закомментировали для скорости) dummy-переменные\n",
    "- rank - сделали 3 категории в зависимости от ранга, сделали dummy-переменные\n",
    "- also_view - удалили, но наверное можно было бы использовать\n",
    "- main_cat - сделали dummy-переменные\n",
    "- price - сделали 3 категории в зависимости от цены, сделали dummy-переменные\n",
    "- also_buy - удалили, но наверное можно было бы использовать\n",
    "В итоге получили большое количество признаков, которые можем использовать в нашей модели."
   ]
  },
  {
   "cell_type": "markdown",
   "metadata": {},
   "source": [
    "# Обучение простой модели"
   ]
  },
  {
   "cell_type": "code",
   "execution_count": null,
   "metadata": {
    "execution": {
     "iopub.execute_input": "2021-06-14T19:13:01.523067Z",
     "iopub.status.busy": "2021-06-14T19:13:01.522577Z",
     "iopub.status.idle": "2021-06-14T19:13:01.712751Z",
     "shell.execute_reply": "2021-06-14T19:13:01.711558Z",
     "shell.execute_reply.started": "2021-06-14T19:13:01.523026Z"
    }
   },
   "outputs": [],
   "source": [
    "import scipy.sparse as sparse\n",
    "\n",
    "from lightfm import LightFM\n",
    "from lightfm.cross_validation import random_train_test_split\n",
    "from lightfm.evaluation import auc_score, precision_at_k, recall_at_k\n",
    "import sklearn\n",
    "from sklearn.model_selection import train_test_split"
   ]
  },
  {
   "cell_type": "code",
   "execution_count": null,
   "metadata": {
    "execution": {
     "iopub.execute_input": "2021-06-14T19:13:01.715147Z",
     "iopub.status.busy": "2021-06-14T19:13:01.714672Z",
     "iopub.status.idle": "2021-06-14T19:13:03.051922Z",
     "shell.execute_reply": "2021-06-14T19:13:03.050832Z",
     "shell.execute_reply.started": "2021-06-14T19:13:01.715098Z"
    }
   },
   "outputs": [],
   "source": [
    "# Разделим тренировочный датасет на тренировочную и тестовую выборки\n",
    "train_data, test_data = train_test_split(train,random_state=32, shuffle=True)\n",
    "\n",
    "ratings_coo = sparse.coo_matrix((train_data['rating'].astype(int),\n",
    "                                 (train_data['userid'],\n",
    "                                  train_data['itemid'],)))"
   ]
  },
  {
   "cell_type": "code",
   "execution_count": null,
   "metadata": {
    "execution": {
     "iopub.execute_input": "2021-06-14T19:13:03.053498Z",
     "iopub.status.busy": "2021-06-14T19:13:03.053205Z",
     "iopub.status.idle": "2021-06-14T19:13:12.484909Z",
     "shell.execute_reply": "2021-06-14T19:13:12.483937Z",
     "shell.execute_reply.started": "2021-06-14T19:13:03.05347Z"
    }
   },
   "outputs": [],
   "source": [
    "NUM_THREADS = 4  # число потоков\n",
    "NUM_COMPONENTS = 30  # число параметров вектора\n",
    "NUM_EPOCHS = 20  # число эпох обучения\n",
    "\n",
    "model_b = LightFM(learning_rate=0.1, loss='logistic',\n",
    "                  no_components=NUM_COMPONENTS)\n",
    "model_b = model_b.fit(ratings_coo, epochs=NUM_EPOCHS,\n",
    "                      num_threads=NUM_THREADS)\n",
    "\n",
    "preds_b = model_b.predict(test_data.userid.values,\n",
    "                          test_data.itemid.values)\n",
    "\n",
    "sklearn.metrics.roc_auc_score(test_data.rating, preds_b)"
   ]
  },
  {
   "cell_type": "code",
   "execution_count": null,
   "metadata": {
    "execution": {
     "iopub.execute_input": "2021-06-14T19:13:12.700165Z",
     "iopub.status.busy": "2021-06-14T19:13:12.699883Z",
     "iopub.status.idle": "2021-06-14T19:13:12.707869Z",
     "shell.execute_reply": "2021-06-14T19:13:12.706749Z",
     "shell.execute_reply.started": "2021-06-14T19:13:12.700138Z"
    }
   },
   "outputs": [],
   "source": [
    "# Подбор параметров модели\n",
    "\n",
    "\"\"\"roc_dict = {}\n",
    "RANDOM_STATE = 20\n",
    "i = 0\n",
    "for lr in [0.112]:  # np.arange(0.098, 0.151, 0.001):\n",
    "    for lf in ['logistic']:\n",
    "        for ls in ['adagrad']:\n",
    "            for nc in [170]:\n",
    "                for ne in [10, 11, 12, 13, 14, 15, 16, 17, 18]:\n",
    "                    for nt in [12]:\n",
    "                        param = {}\n",
    "                        param = {'learning_rate': lr,\n",
    "                                 'loss': lf,\n",
    "                                 'learning_schedule': ls,\n",
    "                                 'no_components': nc,\n",
    "                                 'epochs': ne,\n",
    "                                 'num_threads': nt\n",
    "                                 }\n",
    "                        model_ = LightFM(\n",
    "                            learning_rate=lr,\n",
    "                            loss=lf,\n",
    "                            no_components=nc,\n",
    "                            learning_schedule=ls,\n",
    "                            random_state=RANDOM_STATE\n",
    "                        ).fit(\n",
    "                            ratings_coo,\n",
    "                            epochs=ne,\n",
    "                            num_threads=nt\n",
    "                        )\n",
    "                        preds_ = model_.predict(test_data.userid.values,\n",
    "                                                test_data.itemid.values)\n",
    "                        roc = sklearn.metrics.roc_auc_score(\n",
    "                            test_data.rating, preds_)\n",
    "                        roc_dict[roc] = param\n",
    "                        print(i, roc, param)\n",
    "                        i += 1\n",
    "\n",
    "best_result = max(roc_dict.keys())\n",
    "best_param = roc_dict[best_result]\n",
    "print(best_result, best_param)\"\"\""
   ]
  },
  {
   "cell_type": "markdown",
   "metadata": {},
   "source": [
    "Некоторые промежуточные результаты\n",
    "\n",
    "(0.7512193985520158, {'learning_rate': 0.08, 'loss': 'logistic', 'learning_schedule': 'adagrad', 'no_components': 170, 'epochs': 25, 'num_threads': 12}),\n",
    "\n",
    "(0.7514235651698367 {'learning_rate': 0.08, 'loss': 'logistic', 'learning_schedule': 'adagrad', 'no_components': 170, 'epochs': 24, 'num_threads': 12}),\n",
    "\n",
    "(0.7514739213753435 {'learning_rate': 0.083, 'loss': 'logistic', 'learning_schedule': 'adagrad', 'no_components': 170, 'epochs': 24, 'num_threads': 12}),\n",
    "\n",
    "(0.7515141228065838 {'learning_rate': 0.084, 'loss': 'logistic', 'learning_schedule': 'adagrad', 'no_components': 170, 'epochs': 24, 'num_threads': 12}),\n",
    "\n",
    "(0.7519620719322733 {'learning_rate': 0.084, 'loss': 'logistic', 'learning_schedule': 'adagrad', 'no_components': 170, 'epochs': 21, 'num_threads': 12})\n",
    "\n",
    "0.752250319248385 {'learning_rate': 0.089, 'loss': 'logistic', 'learning_schedule': 'adagrad', 'no_components': 170, 'epochs': 21, 'num_threads': 12}\n",
    "\n",
    "0.7523649127274752 {'learning_rate': 0.089, 'loss': 'logistic', 'learning_schedule': 'adagrad', 'no_components': 170, 'epochs': 19, 'num_threads': 12}\n",
    "\n",
    "0.752754427151223 {'learning_rate': 0.094, 'loss': 'logistic', 'learning_schedule': 'adagrad', 'no_components': 170, 'epochs': 19, 'num_threads': 12}\n",
    "\n",
    "0.752912859782567 {'learning_rate': 0.1, 'loss': 'logistic', 'learning_schedule': 'adagrad', 'no_components': 170, 'epochs': 19, 'num_threads': 12}\n",
    "\n",
    "0.7530235217587499 {'learning_rate': 0.1, 'loss': 'logistic', 'learning_schedule': 'adagrad', 'no_components': 170, 'epochs': 17, 'num_threads': 12}\n",
    "\n",
    "0.7534181653143477 {'learning_rate': 0.112, 'loss': 'logistic', 'learning_schedule': 'adagrad', 'no_components': 170, 'epochs': 17, 'num_threads': 12}\n",
    "\n",
    "0.7536314887244534 {'learning_rate': 0.112, 'loss': 'logistic', 'learning_schedule': 'adagrad', 'no_components': 170, 'epochs': 16, 'num_threads': 12}"
   ]
  },
  {
   "cell_type": "code",
   "execution_count": null,
   "metadata": {
    "execution": {
     "iopub.execute_input": "2021-06-14T19:13:12.72672Z",
     "iopub.status.busy": "2021-06-14T19:13:12.726434Z",
     "iopub.status.idle": "2021-06-14T19:13:44.150744Z",
     "shell.execute_reply": "2021-06-14T19:13:44.147765Z",
     "shell.execute_reply.started": "2021-06-14T19:13:12.726693Z"
    }
   },
   "outputs": [],
   "source": [
    "# Запустим модель с подобранными параметрами\n",
    "\n",
    "LR = 0.112\n",
    "NUM_THREADS = 12 #число потоков\n",
    "NUM_COMPONENTS = 170 #число параметров вектора \n",
    "NUM_EPOCHS = 16 #число эпох обучения\n",
    "LEARNING_SCHEDULE = 'adagrad'\n",
    "LOSS_FUNCTION = 'logistic'\n",
    "RANDOM_STATE = 20\n",
    "\n",
    "model_p = LightFM(\n",
    "    learning_rate=LR,\n",
    "    loss=LOSS_FUNCTION,\n",
    "    no_components=NUM_COMPONENTS,\n",
    "    learning_schedule = LEARNING_SCHEDULE,\n",
    "    random_state = RANDOM_STATE\n",
    ").fit(\n",
    "    ratings_coo,\n",
    "    epochs=NUM_EPOCHS,\n",
    "    num_threads=NUM_THREADS\n",
    ")"
   ]
  },
  {
   "cell_type": "code",
   "execution_count": null,
   "metadata": {
    "execution": {
     "iopub.execute_input": "2021-06-14T19:13:44.157565Z",
     "iopub.status.busy": "2021-06-14T19:13:44.153703Z",
     "iopub.status.idle": "2021-06-14T19:13:44.332126Z",
     "shell.execute_reply": "2021-06-14T19:13:44.331305Z",
     "shell.execute_reply.started": "2021-06-14T19:13:44.157503Z"
    }
   },
   "outputs": [],
   "source": [
    "preds_p = model_p.predict(test_data.userid.values,\n",
    "                          test_data.itemid.values)\n",
    "\n",
    "sklearn.metrics.roc_auc_score(test_data.rating,preds_p)"
   ]
  },
  {
   "cell_type": "code",
   "execution_count": null,
   "metadata": {
    "execution": {
     "iopub.execute_input": "2021-06-14T19:13:44.419348Z",
     "iopub.status.busy": "2021-06-14T19:13:44.418863Z",
     "iopub.status.idle": "2021-06-14T19:13:44.609107Z",
     "shell.execute_reply": "2021-06-14T19:13:44.608067Z",
     "shell.execute_reply.started": "2021-06-14T19:13:44.419316Z"
    }
   },
   "outputs": [],
   "source": [
    "preds_pt = model_p.predict(test.userid.values,\n",
    "                          test.itemid.values)\n",
    "\n",
    "normalized_preds_p = (preds_pt - preds_pt.min())/(preds_pt - preds_pt.min()).max()\n",
    "\n",
    "submission['rating'] = normalized_preds_p\n",
    "submission.to_csv(path + '/data/submission_param_1.csv', index=False)"
   ]
  },
  {
   "cell_type": "code",
   "execution_count": null,
   "metadata": {},
   "outputs": [],
   "source": [
    "# Сохраним модель\n",
    "import pickle\n",
    "\n",
    "with open(path + '/LightFM_best_param.pickle', 'wb') as fle:\n",
    "    pickle.dump(model_p, fle, protocol=pickle.HIGHEST_PROTOCOL)"
   ]
  },
  {
   "cell_type": "markdown",
   "metadata": {},
   "source": [
    "# Добавляем item_features и user_features"
   ]
  },
  {
   "cell_type": "markdown",
   "metadata": {},
   "source": [
    "Рассмотрим возможность добавления item_features и user_features в модель LightFM при помощи lightfm.dataset"
   ]
  },
  {
   "cell_type": "code",
   "execution_count": null,
   "metadata": {
    "execution": {
     "iopub.execute_input": "2021-06-15T11:05:16.507003Z",
     "iopub.status.busy": "2021-06-15T11:05:16.506515Z",
     "iopub.status.idle": "2021-06-15T11:05:16.510417Z",
     "shell.execute_reply": "2021-06-15T11:05:16.509661Z",
     "shell.execute_reply.started": "2021-06-15T11:05:16.506971Z"
    }
   },
   "outputs": [],
   "source": [
    "import pandas as pd"
   ]
  },
  {
   "cell_type": "code",
   "execution_count": null,
   "metadata": {
    "execution": {
     "iopub.execute_input": "2021-06-15T11:05:16.523594Z",
     "iopub.status.busy": "2021-06-15T11:05:16.523211Z",
     "iopub.status.idle": "2021-06-15T11:05:36.841564Z",
     "shell.execute_reply": "2021-06-15T11:05:36.840177Z",
     "shell.execute_reply.started": "2021-06-15T11:05:16.523564Z"
    }
   },
   "outputs": [],
   "source": [
    "df = pd.read_csv(path + '/data/extended_df.csv')"
   ]
  },
  {
   "cell_type": "code",
   "execution_count": null,
   "metadata": {
    "execution": {
     "iopub.execute_input": "2021-06-15T11:05:36.843543Z",
     "iopub.status.busy": "2021-06-15T11:05:36.843232Z",
     "iopub.status.idle": "2021-06-15T11:05:36.879370Z",
     "shell.execute_reply": "2021-06-15T11:05:36.877825Z",
     "shell.execute_reply.started": "2021-06-15T11:05:36.843513Z"
    }
   },
   "outputs": [],
   "source": [
    "df.head()"
   ]
  },
  {
   "cell_type": "code",
   "execution_count": null,
   "metadata": {
    "execution": {
     "iopub.execute_input": "2021-06-15T11:06:16.888829Z",
     "iopub.status.busy": "2021-06-15T11:06:16.888467Z",
     "iopub.status.idle": "2021-06-15T11:07:03.605274Z",
     "shell.execute_reply": "2021-06-15T11:07:03.604432Z",
     "shell.execute_reply.started": "2021-06-15T11:06:16.888800Z"
    }
   },
   "outputs": [],
   "source": [
    "# Можно уберать часть фич, так как в инстансе на Kaggle не хватает памяти. \n",
    "# Для обработки всех фич из датасета использовался комп с 32ГБ оперативки и двумя процессорами по 6 ядер\n",
    "for key in df.keys():\n",
    "    #print(key)\n",
    "    if key[:8]=='main_cat':\n",
    "        df.drop(key, axis=1, inplace=True)\n",
    "    if key[:8]=='category':\n",
    "        df.drop(key, axis=1, inplace=True)\n",
    "    if key[:5]=='brand':\n",
    "        df.drop(key, axis=1, inplace=True)\n",
    "    if key[:11]=='description':\n",
    "        df.drop(key, axis=1, inplace=True)"
   ]
  },
  {
   "cell_type": "code",
   "execution_count": null,
   "metadata": {
    "execution": {
     "iopub.execute_input": "2021-06-15T11:07:03.607073Z",
     "iopub.status.busy": "2021-06-15T11:07:03.606653Z",
     "iopub.status.idle": "2021-06-15T11:07:03.958246Z",
     "shell.execute_reply": "2021-06-15T11:07:03.957499Z",
     "shell.execute_reply.started": "2021-06-15T11:07:03.607044Z"
    }
   },
   "outputs": [],
   "source": [
    "df.drop_duplicates()"
   ]
  },
  {
   "cell_type": "code",
   "execution_count": null,
   "metadata": {
    "execution": {
     "iopub.execute_input": "2021-06-15T11:07:28.922954Z",
     "iopub.status.busy": "2021-06-15T11:07:28.922433Z",
     "iopub.status.idle": "2021-06-15T11:07:29.095951Z",
     "shell.execute_reply": "2021-06-15T11:07:29.094716Z",
     "shell.execute_reply.started": "2021-06-15T11:07:28.922922Z"
    }
   },
   "outputs": [],
   "source": [
    "test_ = df[df['is_test']==1].drop(['is_test'], axis=1)\n",
    "train_ = df[df['is_test']==0].drop(['is_test'], axis=1)\n",
    "\n",
    "features_user_train = train_[['userid', 'verified']]\n",
    "features_item_train = train_.drop(columns=['userid','verified','rating'])\n",
    "df1 = train_[['userid','itemid','rating']]\n",
    "\n",
    "features_user_test = test_[['userid', 'verified']]\n",
    "features_item_test = test_.drop(columns=['userid','verified','rating'])"
   ]
  },
  {
   "cell_type": "code",
   "execution_count": null,
   "metadata": {
    "execution": {
     "iopub.execute_input": "2021-06-15T11:07:30.201568Z",
     "iopub.status.busy": "2021-06-15T11:07:30.201077Z",
     "iopub.status.idle": "2021-06-15T11:07:30.266363Z",
     "shell.execute_reply": "2021-06-15T11:07:30.264805Z",
     "shell.execute_reply.started": "2021-06-15T11:07:30.201532Z"
    }
   },
   "outputs": [],
   "source": [
    "features_user = pd.concat([features_user_train, features_user_test], ignore_index=True)\n",
    "features_item = pd.concat([features_item_train, features_item_test], ignore_index=True)"
   ]
  },
  {
   "cell_type": "markdown",
   "metadata": {},
   "source": [
    "Нам нужно вызвать метод fit, чтобы сообщить LightFM id пользователей, id продуктов, и дополнительные фичи пользователя или продукта.\n",
    "\n",
    "Мы передадим методу fit три параметра:\n",
    "\n",
    "* users: список всех пользователей\n",
    "* items: список всех продуктов\n",
    "* item_features: список дополнительных фичей продукта"
   ]
  },
  {
   "cell_type": "code",
   "execution_count": null,
   "metadata": {
    "execution": {
     "iopub.execute_input": "2021-06-15T11:07:36.891234Z",
     "iopub.status.busy": "2021-06-15T11:07:36.890820Z",
     "iopub.status.idle": "2021-06-15T11:07:37.082552Z",
     "shell.execute_reply": "2021-06-15T11:07:37.081277Z",
     "shell.execute_reply.started": "2021-06-15T11:07:36.891192Z"
    }
   },
   "outputs": [],
   "source": [
    "item_f = []\n",
    "col = []\n",
    "unique_f1 = []\n",
    "for column in features_item.drop(['itemid'], axis=1):\n",
    "    col += [column]*len(features_item[column].unique())\n",
    "    unique_f1 += list(features_item[column].unique())\n",
    "for x,y in zip(col, unique_f1):\n",
    "    res = str(x)+ \":\" +str(y)\n",
    "    item_f.append(res)\n",
    "    #print(res)"
   ]
  },
  {
   "cell_type": "code",
   "execution_count": null,
   "metadata": {
    "execution": {
     "iopub.execute_input": "2021-06-15T11:07:37.949673Z",
     "iopub.status.busy": "2021-06-15T11:07:37.949310Z",
     "iopub.status.idle": "2021-06-15T11:07:37.975135Z",
     "shell.execute_reply": "2021-06-15T11:07:37.973806Z",
     "shell.execute_reply.started": "2021-06-15T11:07:37.949643Z"
    }
   },
   "outputs": [],
   "source": [
    "user_f = []\n",
    "col = []\n",
    "unique_f1 = []\n",
    "for column in features_user.drop(['userid'], axis=1):\n",
    "    col += [column]*len(features_user[column].unique())\n",
    "    unique_f1 += list(features_user[column].unique())\n",
    "for x,y in zip(col, unique_f1):\n",
    "    res = str(x)+ \":\" +str(y)\n",
    "    user_f.append(res)\n",
    "    print(res)"
   ]
  },
  {
   "cell_type": "code",
   "execution_count": null,
   "metadata": {
    "execution": {
     "iopub.execute_input": "2021-06-15T11:07:39.964422Z",
     "iopub.status.busy": "2021-06-15T11:07:39.964042Z",
     "iopub.status.idle": "2021-06-15T11:07:41.104989Z",
     "shell.execute_reply": "2021-06-15T11:07:41.104087Z",
     "shell.execute_reply.started": "2021-06-15T11:07:39.964391Z"
    }
   },
   "outputs": [],
   "source": [
    "# Вызовем метод fit для нашего датасета\n",
    "\n",
    "from lightfm.data import Dataset\n",
    "# we call fit to supply userid, item id and user/item features\n",
    "dataset1 = Dataset()\n",
    "dataset1.fit(\n",
    "        df['userid'].unique(), # all the users\n",
    "        df['itemid'].unique(), # all the items\n",
    "        user_features = user_f,\n",
    "        item_features = item_f\n",
    ")"
   ]
  },
  {
   "cell_type": "markdown",
   "metadata": {},
   "source": [
    "Теперь, когда у нас есть готовый скелет датасета, мы готовы добавить в него фактические взаимодействия (interactions) и оценки (ratings)."
   ]
  },
  {
   "cell_type": "markdown",
   "metadata": {},
   "source": [
    "## Building interactions - построение взаимодействий"
   ]
  },
  {
   "cell_type": "code",
   "execution_count": null,
   "metadata": {
    "execution": {
     "iopub.execute_input": "2021-06-15T11:07:44.323427Z",
     "iopub.status.busy": "2021-06-15T11:07:44.322905Z",
     "iopub.status.idle": "2021-06-15T11:07:53.621986Z",
     "shell.execute_reply": "2021-06-15T11:07:53.621086Z",
     "shell.execute_reply.started": "2021-06-15T11:07:44.323395Z"
    }
   },
   "outputs": [],
   "source": [
    "# plugging in the interactions and their weights\n",
    "(interactions, weights) = dataset1.build_interactions([(x[0], x[1], x[2]) for x in df1.values ])"
   ]
  },
  {
   "cell_type": "markdown",
   "metadata": {},
   "source": [
    "матрица взаимодействий сообщает нам, взаимодействовал ли вообще пользователь с элементом, а матрица весов дает количественную оценку этого конкретного взаимодействия."
   ]
  },
  {
   "cell_type": "code",
   "execution_count": null,
   "metadata": {
    "execution": {
     "iopub.status.busy": "2021-06-14T19:14:52.55255Z",
     "iopub.status.idle": "2021-06-14T19:14:52.553277Z"
    }
   },
   "outputs": [],
   "source": [
    "#interactions.todense()"
   ]
  },
  {
   "cell_type": "code",
   "execution_count": null,
   "metadata": {
    "execution": {
     "iopub.status.busy": "2021-06-14T19:14:52.554653Z",
     "iopub.status.idle": "2021-06-14T19:14:52.555455Z"
    }
   },
   "outputs": [],
   "source": [
    "#weights.todense()"
   ]
  },
  {
   "cell_type": "markdown",
   "metadata": {},
   "source": [
    "## Строим Item Features"
   ]
  },
  {
   "cell_type": "code",
   "execution_count": null,
   "metadata": {
    "execution": {
     "iopub.execute_input": "2021-06-15T11:07:53.623917Z",
     "iopub.status.busy": "2021-06-15T11:07:53.623456Z",
     "iopub.status.idle": "2021-06-15T11:07:53.662896Z",
     "shell.execute_reply": "2021-06-15T11:07:53.661461Z",
     "shell.execute_reply.started": "2021-06-15T11:07:53.623887Z"
    }
   },
   "outputs": [],
   "source": [
    "ll = []\n",
    "for column in features_item.drop(['itemid'], axis=1):\n",
    "    ll.append(column + ':')\n",
    "#print(ll)"
   ]
  },
  {
   "cell_type": "code",
   "execution_count": null,
   "metadata": {
    "execution": {
     "iopub.execute_input": "2021-06-15T11:07:53.664951Z",
     "iopub.status.busy": "2021-06-15T11:07:53.664570Z",
     "iopub.status.idle": "2021-06-15T11:07:53.678540Z",
     "shell.execute_reply": "2021-06-15T11:07:53.677365Z",
     "shell.execute_reply.started": "2021-06-15T11:07:53.664920Z"
    }
   },
   "outputs": [],
   "source": [
    "def feature_colon_value(my_list):\n",
    "    \"\"\"\n",
    "    Takes as input a list and prepends the columns names to respective values in the list.\n",
    "    For example: if my_list = [1,1,0,'del'],\n",
    "    resultant output = ['f1:1', 'f2:1', 'f3:0', 'loc:del']\n",
    "\n",
    "    \"\"\"\n",
    "    result = []\n",
    "    aa = my_list\n",
    "    for x,y in zip(ll,aa):\n",
    "        res = str(x) +\"\"+ str(y)\n",
    "        result.append(res)\n",
    "    return result"
   ]
  },
  {
   "cell_type": "code",
   "execution_count": null,
   "metadata": {
    "execution": {
     "iopub.execute_input": "2021-06-15T11:07:54.262973Z",
     "iopub.status.busy": "2021-06-15T11:07:54.262565Z",
     "iopub.status.idle": "2021-06-15T11:08:09.714629Z",
     "shell.execute_reply": "2021-06-15T11:08:09.713532Z",
     "shell.execute_reply.started": "2021-06-15T11:07:54.262914Z"
    }
   },
   "outputs": [],
   "source": [
    "ad_subset = features_item.drop(['itemid'], axis=1)\n",
    "ad_list = [x.tolist() for x in ad_subset.values]\n",
    "item_feature_list = []\n",
    "for item in ad_list:\n",
    "    item_feature_list.append(feature_colon_value(item))\n",
    "#print(f'Final output: {item_feature_list[0:5]}')"
   ]
  },
  {
   "cell_type": "markdown",
   "metadata": {},
   "source": [
    "Наконец, мы должны связать каждый элемент item_feature_list с соответствующими идентификаторами продуктов."
   ]
  },
  {
   "cell_type": "code",
   "execution_count": null,
   "metadata": {
    "execution": {
     "iopub.execute_input": "2021-06-15T11:08:09.717304Z",
     "iopub.status.busy": "2021-06-15T11:08:09.716942Z",
     "iopub.status.idle": "2021-06-15T11:08:11.042533Z",
     "shell.execute_reply": "2021-06-15T11:08:11.040956Z",
     "shell.execute_reply.started": "2021-06-15T11:08:09.717270Z"
    }
   },
   "outputs": [],
   "source": [
    "item_tuple = list(zip(features_item.itemid, item_feature_list))\n",
    "#item_tuple[0:5]"
   ]
  },
  {
   "cell_type": "code",
   "execution_count": null,
   "metadata": {
    "execution": {
     "iopub.execute_input": "2021-06-15T11:08:11.044325Z",
     "iopub.status.busy": "2021-06-15T11:08:11.044001Z",
     "iopub.status.idle": "2021-06-15T11:08:42.850630Z",
     "shell.execute_reply": "2021-06-15T11:08:42.849691Z",
     "shell.execute_reply.started": "2021-06-15T11:08:11.044295Z"
    }
   },
   "outputs": [],
   "source": [
    "# Мы получили желаемый вид для ввода данных для метода build_item_features. Вызовем этот метод\n",
    "item_features = dataset1.build_item_features(item_tuple, normalize= False)\n",
    "#item_features.todense()"
   ]
  },
  {
   "cell_type": "markdown",
   "metadata": {},
   "source": [
    "В приведенной выше матрице item_features строки - это продукты, а столбцы - это фичи продуктов. 1 присутствует всякий раз, когда у этого продукта есть эта конкретная фича, присутствующая в тренировочном датасете."
   ]
  },
  {
   "cell_type": "markdown",
   "metadata": {},
   "source": [
    "## Создадим user_features"
   ]
  },
  {
   "cell_type": "code",
   "execution_count": null,
   "metadata": {
    "execution": {
     "iopub.execute_input": "2021-06-15T11:08:42.852295Z",
     "iopub.status.busy": "2021-06-15T11:08:42.851821Z",
     "iopub.status.idle": "2021-06-15T11:08:42.862606Z",
     "shell.execute_reply": "2021-06-15T11:08:42.861521Z",
     "shell.execute_reply.started": "2021-06-15T11:08:42.852264Z"
    }
   },
   "outputs": [],
   "source": [
    "# Аналогично item_features\n",
    "ll = []\n",
    "for column in features_user.drop(['userid'], axis=1):\n",
    "    ll.append(column + ':')\n",
    "print(ll)"
   ]
  },
  {
   "cell_type": "code",
   "execution_count": null,
   "metadata": {
    "execution": {
     "iopub.execute_input": "2021-06-15T11:08:42.866204Z",
     "iopub.status.busy": "2021-06-15T11:08:42.865757Z",
     "iopub.status.idle": "2021-06-15T11:08:48.417031Z",
     "shell.execute_reply": "2021-06-15T11:08:48.415757Z",
     "shell.execute_reply.started": "2021-06-15T11:08:42.866161Z"
    }
   },
   "outputs": [],
   "source": [
    "ad_subset = features_user.drop(['userid'], axis=1)\n",
    "ad_list = [x.tolist() for x in ad_subset.values]\n",
    "user_feature_list = []\n",
    "for user in ad_list:\n",
    "    user_feature_list.append(feature_colon_value(user))\n",
    "print(f'Final output: {user_feature_list[0:5]}')"
   ]
  },
  {
   "cell_type": "code",
   "execution_count": null,
   "metadata": {
    "execution": {
     "iopub.execute_input": "2021-06-15T11:09:17.434520Z",
     "iopub.status.busy": "2021-06-15T11:09:17.434129Z",
     "iopub.status.idle": "2021-06-15T11:09:18.878791Z",
     "shell.execute_reply": "2021-06-15T11:09:18.877098Z",
     "shell.execute_reply.started": "2021-06-15T11:09:17.434488Z"
    }
   },
   "outputs": [],
   "source": [
    "user_tuple = list(zip(features_user.userid, user_feature_list))"
   ]
  },
  {
   "cell_type": "code",
   "execution_count": null,
   "metadata": {
    "execution": {
     "iopub.execute_input": "2021-06-15T11:09:18.883071Z",
     "iopub.status.busy": "2021-06-15T11:09:18.882683Z",
     "iopub.status.idle": "2021-06-15T11:09:24.203597Z",
     "shell.execute_reply": "2021-06-15T11:09:24.202522Z",
     "shell.execute_reply.started": "2021-06-15T11:09:18.883039Z"
    }
   },
   "outputs": [],
   "source": [
    "user_features = dataset1.build_user_features(user_tuple, normalize= False)\n",
    "#user_features.todense()"
   ]
  },
  {
   "cell_type": "markdown",
   "metadata": {},
   "source": [
    "## Обучаем модель"
   ]
  },
  {
   "cell_type": "code",
   "execution_count": null,
   "metadata": {
    "execution": {
     "iopub.execute_input": "2021-06-15T11:09:25.766105Z",
     "iopub.status.busy": "2021-06-15T11:09:25.765614Z",
     "iopub.status.idle": "2021-06-15T11:09:25.773095Z",
     "shell.execute_reply": "2021-06-15T11:09:25.771415Z",
     "shell.execute_reply.started": "2021-06-15T11:09:25.766064Z"
    }
   },
   "outputs": [],
   "source": [
    "# Создадим словари, с помощью которых по id в датасете LightFM мы сможем находить id в датасете df.\n",
    "\n",
    "user_id_map, user_feature_map, item_id_map, item_feature_map = dataset1.mapping()"
   ]
  },
  {
   "cell_type": "code",
   "execution_count": null,
   "metadata": {
    "execution": {
     "iopub.execute_input": "2021-06-15T11:09:27.120405Z",
     "iopub.status.busy": "2021-06-15T11:09:27.120053Z",
     "iopub.status.idle": "2021-06-15T11:09:27.173461Z",
     "shell.execute_reply": "2021-06-15T11:09:27.172412Z",
     "shell.execute_reply.started": "2021-06-15T11:09:27.120376Z"
    }
   },
   "outputs": [],
   "source": [
    "import scipy.sparse as sparse\n",
    "\n",
    "from lightfm import LightFM\n",
    "from lightfm.cross_validation import random_train_test_split\n",
    "from lightfm.evaluation import auc_score, precision_at_k, recall_at_k\n",
    "import sklearn\n",
    "from sklearn.model_selection import train_test_split"
   ]
  },
  {
   "cell_type": "code",
   "execution_count": null,
   "metadata": {
    "execution": {
     "iopub.execute_input": "2021-06-15T11:09:28.711543Z",
     "iopub.status.busy": "2021-06-15T11:09:28.711180Z",
     "iopub.status.idle": "2021-06-15T11:10:20.772382Z",
     "shell.execute_reply": "2021-06-15T11:10:20.770942Z",
     "shell.execute_reply.started": "2021-06-15T11:09:28.711514Z"
    }
   },
   "outputs": [],
   "source": [
    "model_f = LightFM(learning_rate=0.112,\n",
    "    loss='logistic',\n",
    "    no_components=170,\n",
    "    learning_schedule='adagrad',\n",
    "    random_state=20)\n",
    "model_f.fit(interactions, # spase matrix representing whether user u and item i interacted\n",
    "    user_features = user_features,\n",
    "    item_features = item_features, # we have built the sparse matrix above\n",
    "    sample_weight = weights, # spase matrix representing how much value to give to user u and item i inetraction: i.e ratings\n",
    "    epochs=16,\n",
    "    num_threads=12)"
   ]
  },
  {
   "cell_type": "code",
   "execution_count": null,
   "metadata": {
    "execution": {
     "iopub.status.busy": "2021-06-14T20:15:18.587075Z",
     "iopub.status.idle": "2021-06-14T20:15:18.587485Z"
    }
   },
   "outputs": [],
   "source": [
    "# Получим значение AUC\n",
    "\n",
    "train_auc = auc_score(model_f,\n",
    "                      interactions,\n",
    "                      user_features = user_features,\n",
    "                      item_features=item_features\n",
    "                     ).mean()\n",
    "print('Hybrid training set AUC: %s' % train_auc)"
   ]
  },
  {
   "cell_type": "markdown",
   "metadata": {},
   "source": [
    "## Предсказания"
   ]
  },
  {
   "cell_type": "markdown",
   "metadata": {},
   "source": [
    "Метод predict принимает три параметра на вход:\n",
    "\n",
    "* мэппинги (отображения) id пользователей (например: для получения прогнозов для первого пользователя необходимо передать 0; для второго 1 и т. д.). Эти мэппинги доступны из словаря user_id_map.\n",
    "* список id продуктов (опять же не itemid из датасета df, а мэппинги (отображение), которые доступны из item_id_map), для которых вы хотите получить рекомендации.\n",
    "* item_features\n",
    "\n",
    "Предскажем пока на известных данных тренировочного датасета"
   ]
  },
  {
   "cell_type": "code",
   "execution_count": null,
   "metadata": {
    "execution": {
     "iopub.execute_input": "2021-06-15T11:10:36.184858Z",
     "iopub.status.busy": "2021-06-15T11:10:36.184441Z",
     "iopub.status.idle": "2021-06-15T11:10:38.669813Z",
     "shell.execute_reply": "2021-06-15T11:10:38.668578Z",
     "shell.execute_reply.started": "2021-06-15T11:10:36.184828Z"
    }
   },
   "outputs": [],
   "source": [
    "user_ids = df1.userid.apply(lambda x: user_id_map[x])\n",
    "item_ids = df1.itemid.apply(lambda x: item_id_map[x])\n",
    "preds_f = model_f.predict(user_ids.values, item_ids.values, user_features=user_features, item_features=item_features)\n",
    "\n",
    "sklearn.metrics.roc_auc_score(df1.rating,preds_f)"
   ]
  },
  {
   "cell_type": "markdown",
   "metadata": {},
   "source": [
    "Logistic: 0.5414955799065918"
   ]
  },
  {
   "cell_type": "markdown",
   "metadata": {},
   "source": [
    "Видим, что добавление фичей негативно сказывается на метрике roc_auc. Вполне ожидемо, что модель с оптимальными параметрами дает лучший результат"
   ]
  },
  {
   "cell_type": "markdown",
   "metadata": {},
   "source": [
    "# Получение рекомендаций"
   ]
  },
  {
   "cell_type": "code",
   "execution_count": null,
   "metadata": {
    "execution": {
     "iopub.execute_input": "2021-06-15T12:03:45.890024Z",
     "iopub.status.busy": "2021-06-15T12:03:45.889610Z",
     "iopub.status.idle": "2021-06-15T12:03:45.933792Z",
     "shell.execute_reply": "2021-06-15T12:03:45.932278Z",
     "shell.execute_reply.started": "2021-06-15T12:03:45.889984Z"
    }
   },
   "outputs": [],
   "source": [
    "# Достаём эбмеддинги\n",
    "item_biases, item_embeddings = model_f.get_item_representations(features=item_features)"
   ]
  },
  {
   "cell_type": "code",
   "execution_count": null,
   "metadata": {
    "execution": {
     "iopub.execute_input": "2021-06-15T12:14:56.320548Z",
     "iopub.status.busy": "2021-06-15T12:14:56.320076Z",
     "iopub.status.idle": "2021-06-15T12:14:56.360819Z",
     "shell.execute_reply": "2021-06-15T12:14:56.359519Z",
     "shell.execute_reply.started": "2021-06-15T12:14:56.320505Z"
    }
   },
   "outputs": [],
   "source": [
    "# Сохраняем полученные эмбеддинги\n",
    "import pickle\n",
    "\n",
    "with open('item_embeddings_rec.pickle', 'wb') as fle:\n",
    "    pickle.dump(item_embeddings, fle, protocol=pickle.HIGHEST_PROTOCOL)"
   ]
  },
  {
   "cell_type": "code",
   "execution_count": 1,
   "metadata": {
    "execution": {
     "iopub.execute_input": "2021-06-15T12:18:12.102588Z",
     "iopub.status.busy": "2021-06-15T12:18:12.102096Z",
     "iopub.status.idle": "2021-06-15T12:18:24.135428Z",
     "shell.execute_reply": "2021-06-15T12:18:24.134417Z",
     "shell.execute_reply.started": "2021-06-15T12:18:12.102556Z"
    }
   },
   "outputs": [
    {
     "name": "stdout",
     "output_type": "stream",
     "text": [
      "\u001b[33mWARNING: You are using pip version 20.1; however, version 21.1.2 is available.\n",
      "You should consider upgrading via the '/opt/conda/bin/python3.7 -m pip install --upgrade pip' command.\u001b[0m\n"
     ]
    }
   ],
   "source": [
    "#!pip install nmslib -q"
   ]
  },
  {
   "cell_type": "code",
   "execution_count": null,
   "metadata": {
    "execution": {
     "iopub.execute_input": "2021-06-15T12:16:38.192186Z",
     "iopub.status.busy": "2021-06-15T12:16:38.191838Z",
     "iopub.status.idle": "2021-06-15T12:16:38.225005Z",
     "shell.execute_reply": "2021-06-15T12:16:38.223594Z",
     "shell.execute_reply.started": "2021-06-15T12:16:38.192159Z"
    }
   },
   "outputs": [],
   "source": [
    "import nmslib\n",
    " \n",
    "#Создаём наш граф для поиска\n",
    "nms_idx = nmslib.init(method='hnsw', space='cosinesimil')\n",
    " \n",
    "#Начинаем добавлять наши книги в граф\n",
    "nms_idx.addDataPointBatch(item_embeddings)\n",
    "nms_idx.createIndex(print_progress=True)"
   ]
  },
  {
   "cell_type": "markdown",
   "metadata": {},
   "source": [
    "## Предсказания для новых пользователей/продуктов\n",
    "Именно поэтому мы в первую очередь создавали гибридную рекомендательную систему. Для нового пользователя это то, что мы знаем - у него есть значения для feature1, feature2, feature3 как 1,1 и 0 соответственно. Кроме того, verified = 1.\n",
    "\n",
    "item_feature_list = ['feature: 1', 'feature2: 1', 'feature3: 0', 'verified: 1']\n",
    "\n",
    "Теперь мы не можем передать это напрямую методу predict. Мы должны преобразовать этот формат в вид, понятный нашей модели lightFM. В идеале входные данные должны выглядеть как одна из строк в матрице item_features.\n",
    "\n",
    "Функции ниже преобразует item_feature_list и user_feature_list в требуемый формат."
   ]
  },
  {
   "cell_type": "code",
   "execution_count": null,
   "metadata": {
    "execution": {
     "iopub.execute_input": "2021-06-15T12:01:11.052045Z",
     "iopub.status.busy": "2021-06-15T12:01:11.051249Z",
     "iopub.status.idle": "2021-06-15T12:01:11.058575Z",
     "shell.execute_reply": "2021-06-15T12:01:11.057727Z",
     "shell.execute_reply.started": "2021-06-15T12:01:11.051950Z"
    }
   },
   "outputs": [],
   "source": [
    "item_feature_list = ['main_cat:Other']\n",
    "user_feature_list = ['verified:1']"
   ]
  },
  {
   "cell_type": "code",
   "execution_count": null,
   "metadata": {
    "execution": {
     "iopub.execute_input": "2021-06-15T12:01:12.746239Z",
     "iopub.status.busy": "2021-06-15T12:01:12.745857Z",
     "iopub.status.idle": "2021-06-15T12:01:12.758437Z",
     "shell.execute_reply": "2021-06-15T12:01:12.757497Z",
     "shell.execute_reply.started": "2021-06-15T12:01:12.746207Z"
    }
   },
   "outputs": [],
   "source": [
    "from scipy import sparse\n",
    "\n",
    "def format_newitem_input(item_feature_map, item_feature_list): \n",
    "    num_features = len(item_feature_list)\n",
    "    normalised_val = 1.0 \n",
    "    target_indices = []\n",
    "    for feature in item_feature_list:\n",
    "        try:\n",
    "            target_indices.append(item_feature_map[feature])\n",
    "        except KeyError:\n",
    "            print(\"new item feature encountered '{}'\".format(feature))\n",
    "            pass\n",
    "\n",
    "    new_item_features = np.zeros(len(item_feature_map.keys()))\n",
    "    for i in target_indices:\n",
    "        new_item_features[i] = normalised_val\n",
    "    new_item_features = sparse.csr_matrix(new_item_features)\n",
    "    return(new_item_features)\n",
    "\n",
    "def format_newuser_input(user_feature_map, user_feature_list):\n",
    "    num_features = len(user_feature_list)\n",
    "    normalised_val = 1.0 \n",
    "    target_indices = []\n",
    "    for feature in user_feature_list:\n",
    "        try:\n",
    "            target_indices.append(user_feature_map[feature])\n",
    "        except KeyError:\n",
    "            print(\"new user feature encountered '{}'\".format(feature))\n",
    "            pass\n",
    "\n",
    "    new_user_features = np.zeros(len(user_feature_map.keys()))\n",
    "    for i in target_indices:\n",
    "        new_user_features[i] = normalised_val\n",
    "    new_user_features = sparse.csr_matrix(new_user_features)\n",
    "    return(new_user_features)"
   ]
  },
  {
   "cell_type": "code",
   "execution_count": null,
   "metadata": {
    "execution": {
     "iopub.execute_input": "2021-06-15T12:01:14.735392Z",
     "iopub.status.busy": "2021-06-15T12:01:14.735032Z",
     "iopub.status.idle": "2021-06-15T12:01:15.372225Z",
     "shell.execute_reply": "2021-06-15T12:01:15.370801Z",
     "shell.execute_reply.started": "2021-06-15T12:01:14.735359Z"
    }
   },
   "outputs": [],
   "source": [
    "import numpy as np\n",
    "# Наконец, мы можем сделать предсказания для нового пользователя:\n",
    "\n",
    "new_user_features = format_newuser_input(user_feature_map, user_feature_list)\n",
    "preds_nu = model_f.predict(0, item_ids.values, user_features=new_user_features, item_features=item_features)\n",
    "preds_nu"
   ]
  },
  {
   "cell_type": "markdown",
   "metadata": {},
   "source": [
    "Здесь первый аргумент, то есть 0, больше не относится к отображаемому идентификатору для первого продукта в датасете. Вместо этого это означает - выберите первую строку разреженной матрицы new_item_features. Передача любого значения, отличного от 0, вызовет ошибку, и это правильно, поскольку в new_item_features нет строк кроме первой строки row0."
   ]
  },
  {
   "cell_type": "code",
   "execution_count": null,
   "metadata": {
    "execution": {
     "iopub.execute_input": "2021-06-15T12:01:28.361209Z",
     "iopub.status.busy": "2021-06-15T12:01:28.360811Z",
     "iopub.status.idle": "2021-06-15T12:01:28.885897Z",
     "shell.execute_reply": "2021-06-15T12:01:28.884719Z",
     "shell.execute_reply.started": "2021-06-15T12:01:28.361178Z"
    }
   },
   "outputs": [],
   "source": [
    "# Аналогично для нового продукта\n",
    "\n",
    "new_item_features = format_newitem_input(item_feature_map, item_feature_list)\n",
    "preds_np = model_f.predict(user_ids.values, len(user_ids.values)*[0], user_features=user_features, item_features=new_item_features)"
   ]
  },
  {
   "cell_type": "code",
   "execution_count": null,
   "metadata": {
    "execution": {
     "iopub.execute_input": "2021-06-15T12:01:37.056540Z",
     "iopub.status.busy": "2021-06-15T12:01:37.056148Z",
     "iopub.status.idle": "2021-06-15T12:01:37.064372Z",
     "shell.execute_reply": "2021-06-15T12:01:37.063188Z",
     "shell.execute_reply.started": "2021-06-15T12:01:37.056509Z"
    }
   },
   "outputs": [],
   "source": [
    "# И в случае нового пользователя и нового продукта\n",
    "\n",
    "preds_nup = model_f.predict(0, [0], user_features=new_user_features, item_features=new_item_features)"
   ]
  },
  {
   "cell_type": "markdown",
   "metadata": {},
   "source": [
    "## Заключение\n",
    "Таким образом, с помощью добавления item_features и user_features, появляется возможность обойти проблему холодного старта. Мы можем получить информацию о пользователе, например, при регистрации, и использовать эти данные для получения рекомендаций."
   ]
  },
  {
   "cell_type": "markdown",
   "metadata": {},
   "source": [
    "# Рекомендательная система с использованием collab learner от fast.ai"
   ]
  },
  {
   "cell_type": "markdown",
   "metadata": {},
   "source": [
    "Потренируемся работать с библиотекой грубокого обучения fast.ai. Перед запуском ноутбука рекомендуется подключить gpu для увеличения скорости обучения."
   ]
  },
  {
   "cell_type": "code",
   "execution_count": null,
   "metadata": {
    "execution": {
     "iopub.execute_input": "2021-06-15T08:36:49.966114Z",
     "iopub.status.busy": "2021-06-15T08:36:49.965775Z",
     "iopub.status.idle": "2021-06-15T08:37:00.655936Z",
     "shell.execute_reply": "2021-06-15T08:37:00.65497Z",
     "shell.execute_reply.started": "2021-06-15T08:36:49.966082Z"
    }
   },
   "outputs": [],
   "source": [
    "from fastai.tabular import *\n",
    "from fastai.collab import *\n",
    "import pandas as pd\n",
    "\n",
    "# Загружаем датасеты\n",
    "data_train = pd.read_csv('/kaggle/input/recommendationsv4/train.csv')\n",
    "data_train = data_train[['userid','itemid','rating']]\n",
    "data_train.columns = ['user_id','item_id','rating']\n",
    "\n",
    "# Удалим дубликаты из тренировочного датасета\n",
    "data_train.drop_duplicates(inplace = True)\n",
    "\n",
    "test_data = pd.read_csv('/kaggle/input/recommendationsv4/test.csv')\n",
    "test_data = test_data[['userid', 'itemid']]\n",
    "test_data.columns = ['user_id','item_id']\n",
    "\n",
    "submission = pd.read_csv('/kaggle/input/recommendationsv4/sample_submission.csv')"
   ]
  },
  {
   "cell_type": "code",
   "execution_count": null,
   "metadata": {
    "execution": {
     "iopub.execute_input": "2021-06-15T08:37:03.524604Z",
     "iopub.status.busy": "2021-06-15T08:37:03.524202Z",
     "iopub.status.idle": "2021-06-15T08:37:09.364568Z",
     "shell.execute_reply": "2021-06-15T08:37:09.363528Z",
     "shell.execute_reply.started": "2021-06-15T08:37:03.524568Z"
    }
   },
   "outputs": [],
   "source": [
    "data = CollabDataBunch.from_df(\n",
    "    data_train,\n",
    "    seed=42,\n",
    "    user_name='user_id',\n",
    "    item_name='item_id',\n",
    "    rating_name='rating',\n",
    "    )\n",
    "data.show_batch()"
   ]
  },
  {
   "cell_type": "markdown",
   "metadata": {},
   "source": [
    "## Модель EmbeddingDotBias"
   ]
  },
  {
   "cell_type": "code",
   "execution_count": null,
   "metadata": {
    "execution": {
     "iopub.execute_input": "2021-06-15T08:37:19.009618Z",
     "iopub.status.busy": "2021-06-15T08:37:19.009215Z",
     "iopub.status.idle": "2021-06-15T08:37:19.27511Z",
     "shell.execute_reply": "2021-06-15T08:37:19.274097Z",
     "shell.execute_reply.started": "2021-06-15T08:37:19.009584Z"
    }
   },
   "outputs": [],
   "source": [
    "learn = collab_learner(data, n_factors=50, y_range=(0, 1), wd=1e-2)"
   ]
  },
  {
   "cell_type": "code",
   "execution_count": null,
   "metadata": {
    "execution": {
     "iopub.execute_input": "2021-06-15T08:37:22.989341Z",
     "iopub.status.busy": "2021-06-15T08:37:22.988948Z",
     "iopub.status.idle": "2021-06-15T08:37:24.92581Z",
     "shell.execute_reply": "2021-06-15T08:37:24.924746Z",
     "shell.execute_reply.started": "2021-06-15T08:37:22.989299Z"
    }
   },
   "outputs": [],
   "source": [
    "learn.lr_find() # find learning rate\n",
    "learn.recorder.plot() # plot learning rate graph"
   ]
  },
  {
   "cell_type": "code",
   "execution_count": null,
   "metadata": {
    "execution": {
     "iopub.execute_input": "2021-06-15T08:37:39.276117Z",
     "iopub.status.busy": "2021-06-15T08:37:39.275738Z",
     "iopub.status.idle": "2021-06-15T08:48:12.969061Z",
     "shell.execute_reply": "2021-06-15T08:48:12.967927Z",
     "shell.execute_reply.started": "2021-06-15T08:37:39.276084Z"
    }
   },
   "outputs": [],
   "source": [
    "learn.fit_one_cycle(5, 1e-2)"
   ]
  },
  {
   "cell_type": "code",
   "execution_count": null,
   "metadata": {
    "execution": {
     "iopub.execute_input": "2021-06-15T08:48:12.974103Z",
     "iopub.status.busy": "2021-06-15T08:48:12.973801Z",
     "iopub.status.idle": "2021-06-15T08:48:13.101497Z",
     "shell.execute_reply": "2021-06-15T08:48:13.100426Z",
     "shell.execute_reply.started": "2021-06-15T08:48:12.974071Z"
    }
   },
   "outputs": [],
   "source": [
    "learn.save(\"dot_bias_model\", return_path=True)"
   ]
  },
  {
   "cell_type": "code",
   "execution_count": null,
   "metadata": {
    "execution": {
     "iopub.execute_input": "2021-06-15T08:54:22.246496Z",
     "iopub.status.busy": "2021-06-15T08:54:22.2461Z",
     "iopub.status.idle": "2021-06-15T08:54:24.161144Z",
     "shell.execute_reply": "2021-06-15T08:54:24.160028Z",
     "shell.execute_reply.started": "2021-06-15T08:54:22.246464Z"
    }
   },
   "outputs": [],
   "source": [
    "# Укажем тестовый датасет\n",
    "\n",
    "data_collab = CollabDataBunch.from_df(data_train, test=test_data, seed=42, valid_pct=0.2, \n",
    "                                      user_name='user_id', item_name='item_id', rating_name='rating')\n",
    "learn = collab_learner(data_collab, n_factors=50, y_range=(0, 1), wd=1e-2)"
   ]
  },
  {
   "cell_type": "code",
   "execution_count": null,
   "metadata": {
    "execution": {
     "iopub.execute_input": "2021-06-15T08:54:31.864289Z",
     "iopub.status.busy": "2021-06-15T08:54:31.863924Z",
     "iopub.status.idle": "2021-06-15T08:54:31.992648Z",
     "shell.execute_reply": "2021-06-15T08:54:31.991761Z",
     "shell.execute_reply.started": "2021-06-15T08:54:31.864248Z"
    }
   },
   "outputs": [],
   "source": [
    "# Загрузим ранее сохраненную модель\n",
    "\n",
    "learn_loaded = learn.load(Path('dot_bias_model'))"
   ]
  },
  {
   "cell_type": "code",
   "execution_count": null,
   "metadata": {
    "execution": {
     "iopub.execute_input": "2021-06-15T08:54:33.176658Z",
     "iopub.status.busy": "2021-06-15T08:54:33.176178Z",
     "iopub.status.idle": "2021-06-15T08:55:07.009472Z",
     "shell.execute_reply": "2021-06-15T08:55:07.008327Z",
     "shell.execute_reply.started": "2021-06-15T08:54:33.176625Z"
    }
   },
   "outputs": [],
   "source": [
    "# Получим предсказания\n",
    "\n",
    "preds, y = learn_loaded.get_preds(DatasetType.Test)"
   ]
  },
  {
   "cell_type": "code",
   "execution_count": null,
   "metadata": {
    "execution": {
     "iopub.execute_input": "2021-06-15T08:55:25.365933Z",
     "iopub.status.busy": "2021-06-15T08:55:25.365567Z",
     "iopub.status.idle": "2021-06-15T08:55:26.835584Z",
     "shell.execute_reply": "2021-06-15T08:55:26.834605Z",
     "shell.execute_reply.started": "2021-06-15T08:55:25.3659Z"
    }
   },
   "outputs": [],
   "source": [
    "submission['rating']= preds\n",
    "submission.to_csv('fastai_submission.csv', index=False)"
   ]
  },
  {
   "cell_type": "markdown",
   "metadata": {},
   "source": [
    "На Kaggle получен результат 0.73794, что примерно соответствует базовой модели. Возможно улучшение результата путем подбора параметров или применения нейросети."
   ]
  },
  {
   "cell_type": "markdown",
   "metadata": {},
   "source": [
    "# Основные итоги\n",
    "\n",
    "В процессе работы над проектом удалось реализовать почти все поставленные задачи. Был произведен детальный анализ дополнительных данных, часть которых была добавлена в модель, что позволило немного улучшить результаты.\n",
    "\n",
    "Выполнен разведывательный анализ данных, произведена генерация новых признаков, на рабочем компьютере произведен расчет модели со всеми признаками (к сожалению, ноутбук на Kaggle, в моем случае, тянул не больше 20 признаков).\n",
    "\n",
    "Наилучшие результаты по метрике ROC-AUC были достигнуты для модели без дополнительных признаков, только путем подбора гипер-параметров этой модели.\n",
    "\n",
    "Попробовал поработать с библиотекой fastai, впечатления пока противоречивые. Требуется более детальная проработка.\n",
    "\n",
    "На ноутбуке Kaggle не удалось использовать библиотеку nmslib, поэтому реализация функцонала по рекомендациям только на рабочем компьютере и github.\n",
    "\n",
    "\n",
    "Пример, приведенный в модуле не работает. Не проходит деплой на Heroku не может скомпилировать библиотеки. Пробовал и с домашнего компьютера и через github.\n",
    "Сам проект запускается в обоих случаях.\n",
    "streamlit run https://github.com/samakarov/hiroku_deploy/blob/main/app.py"
   ]
  }
 ],
 "metadata": {
  "kernelspec": {
   "display_name": "Python 3",
   "language": "python",
   "name": "python3"
  },
  "language_info": {
   "codemirror_mode": {
    "name": "ipython",
    "version": 3
   },
   "file_extension": ".py",
   "mimetype": "text/x-python",
   "name": "python",
   "nbconvert_exporter": "python",
   "pygments_lexer": "ipython3",
   "version": "3.8.5"
  }
 },
 "nbformat": 4,
 "nbformat_minor": 4
}
